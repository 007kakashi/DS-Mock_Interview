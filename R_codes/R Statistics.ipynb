{
 "cells": [
  {
   "cell_type": "markdown",
   "id": "262aee46",
   "metadata": {},
   "source": [
    "## Mean:\n",
    "\n",
    "It is calculated by taking the sum of the values and dividing with the number of values in a data series."
   ]
  },
  {
   "cell_type": "raw",
   "id": "14c521b5",
   "metadata": {},
   "source": [
    "mean(x, trim = 0, na.rm = FALSE, ...)"
   ]
  },
  {
   "cell_type": "code",
   "execution_count": 1,
   "id": "a99df083",
   "metadata": {},
   "outputs": [
    {
     "name": "stdout",
     "output_type": "stream",
     "text": [
      "[1] 8.22\n"
     ]
    }
   ],
   "source": [
    "# Create a vector. \n",
    "x <- c(12,7,3,4.2,18,2,54,-21,8,-5)\n",
    "\n",
    "# Find Mean.\n",
    "result.mean <- mean(x)\n",
    "print(result.mean)"
   ]
  },
  {
   "cell_type": "code",
   "execution_count": 4,
   "id": "b9c1f10a",
   "metadata": {},
   "outputs": [
    {
     "name": "stdout",
     "output_type": "stream",
     "text": [
      "[1] 5.55\n"
     ]
    }
   ],
   "source": [
    "# Create a vector.\n",
    "x <- c(12,7,3,4.2,18,2,54,-21,8,-5)\n",
    "# When trim = 0.3, 3 values from each end will be dropped from the calculations to find mean.\n",
    "# Find Mean.\n",
    "result.mean <-  mean(x,trim = 0.3)\n",
    "print(result.mean)"
   ]
  },
  {
   "cell_type": "code",
   "execution_count": 5,
   "id": "73954119",
   "metadata": {},
   "outputs": [
    {
     "name": "stdout",
     "output_type": "stream",
     "text": [
      "[1] NA\n",
      "[1] 8.22\n"
     ]
    }
   ],
   "source": [
    "# Create a vector. \n",
    "x <- c(12,7,3,4.2,18,2,54,-21,8,-5,NA)\n",
    "\n",
    "# Find mean.\n",
    "result.mean <-  mean(x)\n",
    "print(result.mean)\n",
    "\n",
    "# Find mean dropping NA values.\n",
    "result.mean <-  mean(x,na.rm = TRUE)\n",
    "print(result.mean)"
   ]
  },
  {
   "cell_type": "markdown",
   "id": "d4eb2bb9",
   "metadata": {},
   "source": [
    "## Median"
   ]
  },
  {
   "cell_type": "markdown",
   "id": "39fa0255",
   "metadata": {},
   "source": [
    "The middle most value in a data series is called the median. The median() function is used in R to calculate this value."
   ]
  },
  {
   "cell_type": "raw",
   "id": "4aa5bd03",
   "metadata": {},
   "source": [
    "median(x, na.rm = FALSE)"
   ]
  },
  {
   "cell_type": "code",
   "execution_count": 6,
   "id": "1736d39c",
   "metadata": {},
   "outputs": [
    {
     "name": "stdout",
     "output_type": "stream",
     "text": [
      "[1] 5.6\n"
     ]
    }
   ],
   "source": [
    "# Create the vector.\n",
    "x <- c(12,7,3,4.2,18,2,54,-21,8,-5)\n",
    "\n",
    "# Find the median.\n",
    "median.result <- median(x)\n",
    "print(median.result)"
   ]
  },
  {
   "cell_type": "markdown",
   "id": "357cdba8",
   "metadata": {},
   "source": [
    "## Mode\n",
    "\n",
    "The mode is the value that has highest number of occurrences in a set of data. Unike mean and median, mode can have both numeric and character data.\n",
    "\n",
    "R does not have a standard in-built function to calculate mode. So we create a user function to calculate mode of a data set in R. This function takes the vector as input and gives the mode value as output."
   ]
  },
  {
   "cell_type": "code",
   "execution_count": 2,
   "id": "e33a7935",
   "metadata": {},
   "outputs": [],
   "source": [
    "# Create the function.\n",
    "getmode <- function(v) {\n",
    "   uniqv <- unique(v)\n",
    "   uniqv[which.max(tabulate(match(v, uniqv)))]\n",
    "}"
   ]
  },
  {
   "cell_type": "code",
   "execution_count": 3,
   "id": "85962391",
   "metadata": {},
   "outputs": [
    {
     "name": "stdout",
     "output_type": "stream",
     "text": [
      "[1] 2\n"
     ]
    }
   ],
   "source": [
    "# Create the vector with numbers.\n",
    "v <- c(2,1,2,3,1,2,3,4,1,5,5,3,2,3)\n",
    "\n",
    "# Calculate the mode using the user function.\n",
    "result <- getmode(v)\n",
    "print(result)"
   ]
  },
  {
   "cell_type": "markdown",
   "id": "f611e7d7",
   "metadata": {},
   "source": [
    "## Var & SD"
   ]
  },
  {
   "cell_type": "raw",
   "id": "7340e192",
   "metadata": {},
   "source": [
    "var(x)\t\n",
    "sd(x, na.rm = FALSE)"
   ]
  },
  {
   "cell_type": "code",
   "execution_count": 4,
   "id": "3b9d44e9",
   "metadata": {},
   "outputs": [
    {
     "data": {
      "text/html": [
       "652.233333333333"
      ],
      "text/latex": [
       "652.233333333333"
      ],
      "text/markdown": [
       "652.233333333333"
      ],
      "text/plain": [
       "[1] 652.2333"
      ]
     },
     "metadata": {},
     "output_type": "display_data"
    }
   ],
   "source": [
    "v <- c(12,24,74,32,14,29,84,56,67,41)\n",
    "var(v)"
   ]
  },
  {
   "cell_type": "code",
   "execution_count": 5,
   "id": "cc48d574",
   "metadata": {},
   "outputs": [
    {
     "data": {
      "text/html": [
       "25.5388592801897"
      ],
      "text/latex": [
       "25.5388592801897"
      ],
      "text/markdown": [
       "25.5388592801897"
      ],
      "text/plain": [
       "[1] 25.53886"
      ]
     },
     "metadata": {},
     "output_type": "display_data"
    }
   ],
   "source": [
    "sd(v)"
   ]
  },
  {
   "cell_type": "code",
   "execution_count": 6,
   "id": "0eae1665",
   "metadata": {},
   "outputs": [
    {
     "name": "stdout",
     "output_type": "stream",
     "text": [
      "[1] 25.53886\n"
     ]
    }
   ],
   "source": [
    "# By using formula\n",
    "std<-sqrt(sum((v-mean(v))^2/(length(v)-1)))\n",
    "print(std)"
   ]
  },
  {
   "cell_type": "markdown",
   "id": "3e4ea40a",
   "metadata": {},
   "source": [
    "## Skewness"
   ]
  },
  {
   "cell_type": "raw",
   "id": "35f3eabb",
   "metadata": {},
   "source": [
    "skewness(x)\n",
    "kurtosis(x)"
   ]
  },
  {
   "cell_type": "raw",
   "id": "bff7a694",
   "metadata": {},
   "source": [
    "skewness -> 0 ->>>>> symmetric\n",
    "skewness -> -0.5 - 0 or 0 - 0.5 ->>>fairly symmetric\n",
    "skewness -> -0.1 - -0.5 or 0.5 - 1 ->>>moderatly symmetric\n",
    "skewness -> <-1 or >+1 ->>>asymmetric"
   ]
  },
  {
   "cell_type": "code",
   "execution_count": null,
   "id": "892110d2",
   "metadata": {},
   "outputs": [],
   "source": [
    "# Required for skewness() function\n",
    "install.packages(\"moments\")\n",
    "library(moments)"
   ]
  },
  {
   "cell_type": "code",
   "execution_count": null,
   "id": "2f4892e2",
   "metadata": {},
   "outputs": [],
   "source": [
    "x <- c(40, 41, 42, 43, 50)\n",
    "print(skewness(x))"
   ]
  },
  {
   "cell_type": "markdown",
   "id": "9b6d1212",
   "metadata": {},
   "source": [
    "## Quantile()"
   ]
  },
  {
   "cell_type": "raw",
   "id": "67160031",
   "metadata": {},
   "source": [
    "quantile(x, probs = , na.rm = FALSE)"
   ]
  },
  {
   "cell_type": "code",
   "execution_count": 16,
   "id": "4148344a",
   "metadata": {},
   "outputs": [
    {
     "data": {
      "text/html": [
       "<dl class=dl-horizontal>\n",
       "\t<dt>0%</dt>\n",
       "\t\t<dd>3</dd>\n",
       "\t<dt>25%</dt>\n",
       "\t\t<dd>12</dd>\n",
       "\t<dt>50%</dt>\n",
       "\t\t<dd>46</dd>\n",
       "\t<dt>75%</dt>\n",
       "\t\t<dd>78</dd>\n",
       "\t<dt>100%</dt>\n",
       "\t\t<dd>100</dd>\n",
       "</dl>\n"
      ],
      "text/latex": [
       "\\begin{description*}\n",
       "\\item[0\\textbackslash{}\\%] 3\n",
       "\\item[25\\textbackslash{}\\%] 12\n",
       "\\item[50\\textbackslash{}\\%] 46\n",
       "\\item[75\\textbackslash{}\\%] 78\n",
       "\\item[100\\textbackslash{}\\%] 100\n",
       "\\end{description*}\n"
      ],
      "text/markdown": [
       "0%\n",
       ":   325%\n",
       ":   1250%\n",
       ":   4675%\n",
       ":   78100%\n",
       ":   100\n",
       "\n"
      ],
      "text/plain": [
       "  0%  25%  50%  75% 100% \n",
       "   3   12   46   78  100 "
      ]
     },
     "metadata": {},
     "output_type": "display_data"
    }
   ],
   "source": [
    "df<-c(12,3,4,56,78,18,46,78,100)\n",
    "quantile(df)"
   ]
  },
  {
   "cell_type": "code",
   "execution_count": 17,
   "id": "b7309c21",
   "metadata": {},
   "outputs": [
    {
     "ename": "ERROR",
     "evalue": "Error in quantile.default(df): missing values and NaN's not allowed if 'na.rm' is FALSE\n",
     "output_type": "error",
     "traceback": [
      "Error in quantile.default(df): missing values and NaN's not allowed if 'na.rm' is FALSE\nTraceback:\n",
      "1. quantile(df)",
      "2. quantile.default(df)",
      "3. stop(\"missing values and NaN's not allowed if 'na.rm' is FALSE\")"
     ]
    }
   ],
   "source": [
    "#creates a vector having values along with NaN's\n",
    "\n",
    "df<-c(12,3,4,56,78,18,NA,46,78,100,NA)\n",
    "quantile(df)"
   ]
  },
  {
   "cell_type": "code",
   "execution_count": 18,
   "id": "3f7ab19a",
   "metadata": {},
   "outputs": [
    {
     "data": {
      "text/html": [
       "<dl class=dl-horizontal>\n",
       "\t<dt>0%</dt>\n",
       "\t\t<dd>3</dd>\n",
       "\t<dt>25%</dt>\n",
       "\t\t<dd>12</dd>\n",
       "\t<dt>50%</dt>\n",
       "\t\t<dd>46</dd>\n",
       "\t<dt>75%</dt>\n",
       "\t\t<dd>78</dd>\n",
       "\t<dt>100%</dt>\n",
       "\t\t<dd>100</dd>\n",
       "</dl>\n"
      ],
      "text/latex": [
       "\\begin{description*}\n",
       "\\item[0\\textbackslash{}\\%] 3\n",
       "\\item[25\\textbackslash{}\\%] 12\n",
       "\\item[50\\textbackslash{}\\%] 46\n",
       "\\item[75\\textbackslash{}\\%] 78\n",
       "\\item[100\\textbackslash{}\\%] 100\n",
       "\\end{description*}\n"
      ],
      "text/markdown": [
       "0%\n",
       ":   325%\n",
       ":   1250%\n",
       ":   4675%\n",
       ":   78100%\n",
       ":   100\n",
       "\n"
      ],
      "text/plain": [
       "  0%  25%  50%  75% 100% \n",
       "   3   12   46   78  100 "
      ]
     },
     "metadata": {},
     "output_type": "display_data"
    }
   ],
   "source": [
    "#removes the NA values and returns the percentiles\n",
    "quantile(df,na.rm = TRUE)"
   ]
  },
  {
   "cell_type": "code",
   "execution_count": 19,
   "id": "67eb4bed",
   "metadata": {},
   "outputs": [
    {
     "ename": "ERROR",
     "evalue": "Error in quantile.default(df, na.rm = T, probs = c(22, 77)): 'probs' outside [0,1]\n",
     "output_type": "error",
     "traceback": [
      "Error in quantile.default(df, na.rm = T, probs = c(22, 77)): 'probs' outside [0,1]\nTraceback:\n",
      "1. quantile(df, na.rm = T, probs = c(22, 77))",
      "2. quantile.default(df, na.rm = T, probs = c(22, 77))",
      "3. stop(\"'probs' outside [0,1]\")"
     ]
    }
   ],
   "source": [
    "#creates the vector of values\n",
    "\n",
    "df<-c(12,3,4,56,78,18,NA,46,78,100,NA)\n",
    "\n",
    "#returns the quantile of 22 and 77 th percentiles. \n",
    "quantile(df,na.rm = T,probs = c(22,77))"
   ]
  },
  {
   "cell_type": "code",
   "execution_count": 20,
   "id": "5d728de9",
   "metadata": {},
   "outputs": [
    {
     "data": {
      "text/html": [
       "<dl class=dl-horizontal>\n",
       "\t<dt>22%</dt>\n",
       "\t\t<dd>10.08</dd>\n",
       "\t<dt>77%</dt>\n",
       "\t\t<dd>78</dd>\n",
       "</dl>\n"
      ],
      "text/latex": [
       "\\begin{description*}\n",
       "\\item[22\\textbackslash{}\\%] 10.08\n",
       "\\item[77\\textbackslash{}\\%] 78\n",
       "\\end{description*}\n"
      ],
      "text/markdown": [
       "22%\n",
       ":   10.0877%\n",
       ":   78\n",
       "\n"
      ],
      "text/plain": [
       "  22%   77% \n",
       "10.08 78.00 "
      ]
     },
     "metadata": {},
     "output_type": "display_data"
    }
   ],
   "source": [
    "#creates a vector of values\n",
    "df<-c(12,3,4,56,78,18,NA,46,78,100,NA)\n",
    "\n",
    "#returns the 22 and 77th percentiles of the input values\n",
    "quantile(df,na.rm = T,probs = c(0.22,0.77))"
   ]
  },
  {
   "cell_type": "markdown",
   "id": "d24a4fff",
   "metadata": {},
   "source": [
    "- The **‘unname’** function will remove the headings or the cut points ( 0%,25% , 50%, 75% , 100 %) and returns only the percentiles."
   ]
  },
  {
   "cell_type": "code",
   "execution_count": 21,
   "id": "e7fd6ef8",
   "metadata": {},
   "outputs": [
    {
     "data": {
      "text/html": [
       "<dl class=dl-horizontal>\n",
       "\t<dt>22%</dt>\n",
       "\t\t<dd>10.08</dd>\n",
       "\t<dt>77%</dt>\n",
       "\t\t<dd>78</dd>\n",
       "</dl>\n"
      ],
      "text/latex": [
       "\\begin{description*}\n",
       "\\item[22\\textbackslash{}\\%] 10.08\n",
       "\\item[77\\textbackslash{}\\%] 78\n",
       "\\end{description*}\n"
      ],
      "text/markdown": [
       "22%\n",
       ":   10.0877%\n",
       ":   78\n",
       "\n"
      ],
      "text/plain": [
       "  22%   77% \n",
       "10.08 78.00 "
      ]
     },
     "metadata": {},
     "output_type": "display_data"
    },
    {
     "data": {
      "text/html": [
       "<ol class=list-inline>\n",
       "\t<li>10.08</li>\n",
       "\t<li>78</li>\n",
       "</ol>\n"
      ],
      "text/latex": [
       "\\begin{enumerate*}\n",
       "\\item 10.08\n",
       "\\item 78\n",
       "\\end{enumerate*}\n"
      ],
      "text/markdown": [
       "1. 10.08\n",
       "2. 78\n",
       "\n",
       "\n"
      ],
      "text/plain": [
       "[1] 10.08 78.00"
      ]
     },
     "metadata": {},
     "output_type": "display_data"
    }
   ],
   "source": [
    "#creates a vector of values\n",
    "df<-c(12,3,4,56,78,18,NA,46,78,100,NA)\n",
    "quantile(df,na.rm = T,probs = c(0.22,0.77))\n",
    "\n",
    "#avoids the cut-points and returns only the percentiles.\n",
    "unname(quantile(df,na.rm = T,probs = c(0.22,0.77)))"
   ]
  },
  {
   "cell_type": "code",
   "execution_count": 22,
   "id": "f360410c",
   "metadata": {},
   "outputs": [
    {
     "data": {
      "text/html": [
       "<dl class=dl-horizontal>\n",
       "\t<dt>22%</dt>\n",
       "\t\t<dd>10.08</dd>\n",
       "\t<dt>77%</dt>\n",
       "\t\t<dd>78</dd>\n",
       "</dl>\n"
      ],
      "text/latex": [
       "\\begin{description*}\n",
       "\\item[22\\textbackslash{}\\%] 10.08\n",
       "\\item[77\\textbackslash{}\\%] 78\n",
       "\\end{description*}\n"
      ],
      "text/markdown": [
       "22%\n",
       ":   10.0877%\n",
       ":   78\n",
       "\n"
      ],
      "text/plain": [
       "  22%   77% \n",
       "10.08 78.00 "
      ]
     },
     "metadata": {},
     "output_type": "display_data"
    },
    {
     "data": {
      "text/html": [
       "<ol class=list-inline>\n",
       "\t<li>10</li>\n",
       "\t<li>78</li>\n",
       "</ol>\n"
      ],
      "text/latex": [
       "\\begin{enumerate*}\n",
       "\\item 10\n",
       "\\item 78\n",
       "\\end{enumerate*}\n"
      ],
      "text/markdown": [
       "1. 10\n",
       "2. 78\n",
       "\n",
       "\n"
      ],
      "text/plain": [
       "[1] 10 78"
      ]
     },
     "metadata": {},
     "output_type": "display_data"
    }
   ],
   "source": [
    "#creates a vector of values\n",
    "df<-c(12,3,4,56,78,18,NA,46,78,100,NA)\n",
    "quantile(df,na.rm = T,probs = c(0.22,0.77))\n",
    "\n",
    "#returns the round off values\n",
    "unname(round(quantile(df,na.rm = T,probs = c(0.22,0.77))))"
   ]
  },
  {
   "cell_type": "markdown",
   "id": "a377b6bb",
   "metadata": {},
   "source": [
    "### Visualise the percentiles"
   ]
  },
  {
   "cell_type": "code",
   "execution_count": 25,
   "id": "bd218f10",
   "metadata": {},
   "outputs": [
    {
     "data": {
      "text/html": [
       "<table>\n",
       "<thead><tr><th scope=col>Sepal.Length</th><th scope=col>Sepal.Width</th><th scope=col>Petal.Length</th><th scope=col>Petal.Width</th><th scope=col>Species</th></tr></thead>\n",
       "<tbody>\n",
       "\t<tr><td>5.1   </td><td>3.5   </td><td>1.4   </td><td>0.2   </td><td>setosa</td></tr>\n",
       "\t<tr><td>4.9   </td><td>3.0   </td><td>1.4   </td><td>0.2   </td><td>setosa</td></tr>\n",
       "\t<tr><td>4.7   </td><td>3.2   </td><td>1.3   </td><td>0.2   </td><td>setosa</td></tr>\n",
       "\t<tr><td>4.6   </td><td>3.1   </td><td>1.5   </td><td>0.2   </td><td>setosa</td></tr>\n",
       "\t<tr><td>5.0   </td><td>3.6   </td><td>1.4   </td><td>0.2   </td><td>setosa</td></tr>\n",
       "\t<tr><td>5.4   </td><td>3.9   </td><td>1.7   </td><td>0.4   </td><td>setosa</td></tr>\n",
       "</tbody>\n",
       "</table>\n"
      ],
      "text/latex": [
       "\\begin{tabular}{r|lllll}\n",
       " Sepal.Length & Sepal.Width & Petal.Length & Petal.Width & Species\\\\\n",
       "\\hline\n",
       "\t 5.1    & 3.5    & 1.4    & 0.2    & setosa\\\\\n",
       "\t 4.9    & 3.0    & 1.4    & 0.2    & setosa\\\\\n",
       "\t 4.7    & 3.2    & 1.3    & 0.2    & setosa\\\\\n",
       "\t 4.6    & 3.1    & 1.5    & 0.2    & setosa\\\\\n",
       "\t 5.0    & 3.6    & 1.4    & 0.2    & setosa\\\\\n",
       "\t 5.4    & 3.9    & 1.7    & 0.4    & setosa\\\\\n",
       "\\end{tabular}\n"
      ],
      "text/markdown": [
       "\n",
       "| Sepal.Length | Sepal.Width | Petal.Length | Petal.Width | Species |\n",
       "|---|---|---|---|---|\n",
       "| 5.1    | 3.5    | 1.4    | 0.2    | setosa |\n",
       "| 4.9    | 3.0    | 1.4    | 0.2    | setosa |\n",
       "| 4.7    | 3.2    | 1.3    | 0.2    | setosa |\n",
       "| 4.6    | 3.1    | 1.5    | 0.2    | setosa |\n",
       "| 5.0    | 3.6    | 1.4    | 0.2    | setosa |\n",
       "| 5.4    | 3.9    | 1.7    | 0.4    | setosa |\n",
       "\n"
      ],
      "text/plain": [
       "  Sepal.Length Sepal.Width Petal.Length Petal.Width Species\n",
       "1 5.1          3.5         1.4          0.2         setosa \n",
       "2 4.9          3.0         1.4          0.2         setosa \n",
       "3 4.7          3.2         1.3          0.2         setosa \n",
       "4 4.6          3.1         1.5          0.2         setosa \n",
       "5 5.0          3.6         1.4          0.2         setosa \n",
       "6 5.4          3.9         1.7          0.4         setosa "
      ]
     },
     "metadata": {},
     "output_type": "display_data"
    }
   ],
   "source": [
    "data(iris)\n",
    "head(iris)"
   ]
  },
  {
   "cell_type": "code",
   "execution_count": 26,
   "id": "629d64f2",
   "metadata": {},
   "outputs": [
    {
     "data": {
      "text/plain": [
       "  Sepal.Length    Sepal.Width     Petal.Length    Petal.Width   \n",
       " Min.   :4.300   Min.   :2.000   Min.   :1.000   Min.   :0.100  \n",
       " 1st Qu.:5.100   1st Qu.:2.800   1st Qu.:1.600   1st Qu.:0.300  \n",
       " Median :5.800   Median :3.000   Median :4.350   Median :1.300  \n",
       " Mean   :5.843   Mean   :3.057   Mean   :3.758   Mean   :1.199  \n",
       " 3rd Qu.:6.400   3rd Qu.:3.300   3rd Qu.:5.100   3rd Qu.:1.800  \n",
       " Max.   :7.900   Max.   :4.400   Max.   :6.900   Max.   :2.500  \n",
       "       Species  \n",
       " setosa    :50  \n",
       " versicolor:50  \n",
       " virginica :50  \n",
       "                \n",
       "                \n",
       "                "
      ]
     },
     "metadata": {},
     "output_type": "display_data"
    }
   ],
   "source": [
    "summary(iris)"
   ]
  },
  {
   "cell_type": "code",
   "execution_count": null,
   "id": "0a091709",
   "metadata": {},
   "outputs": [],
   "source": [
    "#plots a boxplot with labels\n",
    "\n",
    "boxplot(iris$Sepal.Length,main='The boxplot showing the percentiles',col='Orange',ylab='Values',xlab='Sepal Length',border = 'brown',horizontal = T)"
   ]
  },
  {
   "cell_type": "code",
   "execution_count": 24,
   "id": "8e9c1132",
   "metadata": {},
   "outputs": [
    {
     "data": {
      "text/html": [
       "<table>\n",
       "<thead><tr><th></th><th scope=col>mpg</th><th scope=col>cyl</th><th scope=col>disp</th><th scope=col>hp</th><th scope=col>drat</th><th scope=col>wt</th><th scope=col>qsec</th><th scope=col>vs</th><th scope=col>am</th><th scope=col>gear</th><th scope=col>carb</th></tr></thead>\n",
       "<tbody>\n",
       "\t<tr><th scope=row>Mazda RX4</th><td>21.0 </td><td>6    </td><td>160  </td><td>110  </td><td>3.90 </td><td>2.620</td><td>16.46</td><td>0    </td><td>1    </td><td>4    </td><td>4    </td></tr>\n",
       "\t<tr><th scope=row>Mazda RX4 Wag</th><td>21.0 </td><td>6    </td><td>160  </td><td>110  </td><td>3.90 </td><td>2.875</td><td>17.02</td><td>0    </td><td>1    </td><td>4    </td><td>4    </td></tr>\n",
       "\t<tr><th scope=row>Datsun 710</th><td>22.8 </td><td>4    </td><td>108  </td><td> 93  </td><td>3.85 </td><td>2.320</td><td>18.61</td><td>1    </td><td>1    </td><td>4    </td><td>1    </td></tr>\n",
       "\t<tr><th scope=row>Hornet 4 Drive</th><td>21.4 </td><td>6    </td><td>258  </td><td>110  </td><td>3.08 </td><td>3.215</td><td>19.44</td><td>1    </td><td>0    </td><td>3    </td><td>1    </td></tr>\n",
       "\t<tr><th scope=row>Hornet Sportabout</th><td>18.7 </td><td>8    </td><td>360  </td><td>175  </td><td>3.15 </td><td>3.440</td><td>17.02</td><td>0    </td><td>0    </td><td>3    </td><td>2    </td></tr>\n",
       "\t<tr><th scope=row>Valiant</th><td>18.1 </td><td>6    </td><td>225  </td><td>105  </td><td>2.76 </td><td>3.460</td><td>20.22</td><td>1    </td><td>0    </td><td>3    </td><td>1    </td></tr>\n",
       "</tbody>\n",
       "</table>\n"
      ],
      "text/latex": [
       "\\begin{tabular}{r|lllllllllll}\n",
       "  & mpg & cyl & disp & hp & drat & wt & qsec & vs & am & gear & carb\\\\\n",
       "\\hline\n",
       "\tMazda RX4 & 21.0  & 6     & 160   & 110   & 3.90  & 2.620 & 16.46 & 0     & 1     & 4     & 4    \\\\\n",
       "\tMazda RX4 Wag & 21.0  & 6     & 160   & 110   & 3.90  & 2.875 & 17.02 & 0     & 1     & 4     & 4    \\\\\n",
       "\tDatsun 710 & 22.8  & 4     & 108   &  93   & 3.85  & 2.320 & 18.61 & 1     & 1     & 4     & 1    \\\\\n",
       "\tHornet 4 Drive & 21.4  & 6     & 258   & 110   & 3.08  & 3.215 & 19.44 & 1     & 0     & 3     & 1    \\\\\n",
       "\tHornet Sportabout & 18.7  & 8     & 360   & 175   & 3.15  & 3.440 & 17.02 & 0     & 0     & 3     & 2    \\\\\n",
       "\tValiant & 18.1  & 6     & 225   & 105   & 2.76  & 3.460 & 20.22 & 1     & 0     & 3     & 1    \\\\\n",
       "\\end{tabular}\n"
      ],
      "text/markdown": [
       "\n",
       "| <!--/--> | mpg | cyl | disp | hp | drat | wt | qsec | vs | am | gear | carb |\n",
       "|---|---|---|---|---|---|---|---|---|---|---|---|\n",
       "| Mazda RX4 | 21.0  | 6     | 160   | 110   | 3.90  | 2.620 | 16.46 | 0     | 1     | 4     | 4     |\n",
       "| Mazda RX4 Wag | 21.0  | 6     | 160   | 110   | 3.90  | 2.875 | 17.02 | 0     | 1     | 4     | 4     |\n",
       "| Datsun 710 | 22.8  | 4     | 108   |  93   | 3.85  | 2.320 | 18.61 | 1     | 1     | 4     | 1     |\n",
       "| Hornet 4 Drive | 21.4  | 6     | 258   | 110   | 3.08  | 3.215 | 19.44 | 1     | 0     | 3     | 1     |\n",
       "| Hornet Sportabout | 18.7  | 8     | 360   | 175   | 3.15  | 3.440 | 17.02 | 0     | 0     | 3     | 2     |\n",
       "| Valiant | 18.1  | 6     | 225   | 105   | 2.76  | 3.460 | 20.22 | 1     | 0     | 3     | 1     |\n",
       "\n"
      ],
      "text/plain": [
       "                  mpg  cyl disp hp  drat wt    qsec  vs am gear carb\n",
       "Mazda RX4         21.0 6   160  110 3.90 2.620 16.46 0  1  4    4   \n",
       "Mazda RX4 Wag     21.0 6   160  110 3.90 2.875 17.02 0  1  4    4   \n",
       "Datsun 710        22.8 4   108   93 3.85 2.320 18.61 1  1  4    1   \n",
       "Hornet 4 Drive    21.4 6   258  110 3.08 3.215 19.44 1  0  3    1   \n",
       "Hornet Sportabout 18.7 8   360  175 3.15 3.440 17.02 0  0  3    2   \n",
       "Valiant           18.1 6   225  105 2.76 3.460 20.22 1  0  3    1   "
      ]
     },
     "metadata": {},
     "output_type": "display_data"
    }
   ],
   "source": [
    "#reads the data\n",
    "data(\"mtcars\")\n",
    "#returns the top few rows of the data\n",
    "head(mtcars)"
   ]
  },
  {
   "cell_type": "code",
   "execution_count": null,
   "id": "502e11ed",
   "metadata": {},
   "outputs": [],
   "source": [
    "#install required paclages\n",
    "install.packages('dplyr')\n",
    "library(dplyr)\n",
    "\n",
    "#using tapply, we can apply the function to multiple groups\n",
    "do.call(\"rbind\",tapply(mtcars$mpg, mtcars$gear, quantile))"
   ]
  },
  {
   "cell_type": "markdown",
   "id": "4671fe9b",
   "metadata": {},
   "source": [
    "## Plots"
   ]
  },
  {
   "cell_type": "markdown",
   "id": "c873d8c8",
   "metadata": {},
   "source": [
    "### Bar Charts"
   ]
  },
  {
   "cell_type": "raw",
   "id": "e716f840",
   "metadata": {},
   "source": [
    "barplot(h,x,y,main, names.arg,col) "
   ]
  },
  {
   "cell_type": "code",
   "execution_count": 13,
   "id": "b942e65a",
   "metadata": {},
   "outputs": [],
   "source": [
    "# Creating the data for Bar chart  \n",
    "H<- c(12,35,54,3,41)  \n",
    "# Giving the chart file a name  \n",
    "#png(file = \"bar_chart.png\")  \n",
    "# Plotting the bar chart   \n",
    "barplot(H)  "
   ]
  },
  {
   "cell_type": "markdown",
   "id": "28e21b87",
   "metadata": {},
   "source": [
    "### Hist Plot\n"
   ]
  },
  {
   "cell_type": "code",
   "execution_count": 14,
   "id": "f98c5270",
   "metadata": {},
   "outputs": [
    {
     "ename": "ERROR",
     "evalue": "Error in png(tf, width, height, \"in\", pointsize, bg, res, antialias = antialias): unable to start png() device\n",
     "output_type": "error",
     "traceback": [
      "Error in png(tf, width, height, \"in\", pointsize, bg, res, antialias = antialias): unable to start png() device\nTraceback:\n"
     ]
    },
    {
     "data": {
      "text/plain": [
       "Plot with title \"Histogram of x\""
      ]
     },
     "metadata": {},
     "output_type": "display_data"
    }
   ],
   "source": [
    "# Defining data vector\n",
    "x <- c(40, 41, 42, 43, 50)\n",
    "print(skewness(x))\n",
    "hist(x)"
   ]
  },
  {
   "cell_type": "code",
   "execution_count": 16,
   "id": "3c7f7294",
   "metadata": {},
   "outputs": [
    {
     "name": "stdout",
     "output_type": "stream",
     "text": [
      "[1] 0.1062921\n"
     ]
    }
   ],
   "source": [
    "# Defining normally distributed data vector\n",
    "x <- rnorm(50, 10, 10)\n",
    "# Print skewness of distribution\n",
    "print(skewness(x))"
   ]
  },
  {
   "cell_type": "code",
   "execution_count": 11,
   "id": "4b9f3b1a",
   "metadata": {},
   "outputs": [
    {
     "name": "stdout",
     "output_type": "stream",
     "text": [
      "[1] 0.1651784\n"
     ]
    }
   ],
   "source": [
    "# Defining normally distributed data vector\n",
    "x <- rnorm(50, 10, 10)\n",
    "library(moments)\n",
    "# Print skewness of distribution\n",
    "print(skewness(x))"
   ]
  },
  {
   "cell_type": "markdown",
   "id": "68042a17",
   "metadata": {},
   "source": [
    "### Box plot"
   ]
  },
  {
   "cell_type": "code",
   "execution_count": 18,
   "id": "7a347e91",
   "metadata": {},
   "outputs": [
    {
     "data": {
      "image/png": "[encoded data removed]",
      "text/plain": [
       "plot without title"
      ]
     },
     "metadata": {},
     "output_type": "display_data"
    }
   ],
   "source": [
    "# Defining data vector\n",
    "v <- c(12,24,74,32,14,29,84,56,67,41)\n",
    "boxplot(v)\n"
   ]
  },
  {
   "cell_type": "markdown",
   "id": "09db144a",
   "metadata": {},
   "source": [
    "### Pie Charts"
   ]
  },
  {
   "cell_type": "raw",
   "id": "7d15544c",
   "metadata": {},
   "source": [
    "pie(x, labels, radius, main, col, clockwise)"
   ]
  },
  {
   "cell_type": "code",
   "execution_count": 12,
   "id": "0004ed26",
   "metadata": {},
   "outputs": [],
   "source": [
    "# Create data for the graph.\n",
    "x <- c(21, 62, 10, 53)\n",
    "labels <- c(\"London\", \"New York\", \"Singapore\", \"Mumbai\")\n",
    "\n",
    "# Give the chart file a name.\n",
    "png(file = \"city.png\")\n",
    "pie(x,labels)\n",
    "# Save the file.\n",
    "#dev.off()"
   ]
  },
  {
   "cell_type": "markdown",
   "id": "9a1bab8b",
   "metadata": {},
   "source": [
    "### Scatterplots"
   ]
  },
  {
   "cell_type": "raw",
   "id": "ffe325d4",
   "metadata": {},
   "source": [
    "plot(x, y, main, xlab, ylab, xlim, ylim, axes) "
   ]
  },
  {
   "cell_type": "code",
   "execution_count": 15,
   "id": "6d9e615b",
   "metadata": {},
   "outputs": [
    {
     "ename": "ERROR",
     "evalue": "Error in png(tf, width, height, \"in\", pointsize, bg, res, antialias = antialias): unable to start png() device\n",
     "output_type": "error",
     "traceback": [
      "Error in png(tf, width, height, \"in\", pointsize, bg, res, antialias = antialias): unable to start png() device\nTraceback:\n"
     ]
    },
    {
     "data": {
      "text/plain": [
       "Plot with title \"Weight v/sMilage\""
      ]
     },
     "metadata": {},
     "output_type": "display_data"
    }
   ],
   "source": [
    "data <-mtcars[,c('wt','mpg')] \n",
    "# Plotting the chart for cars with weight between 2.5 to 5 and mileage between 15 and 30.  \n",
    "plot(x = data$wt,y = data$mpg, xlab = \"Weight\", ylab = \"Milage\", xlim = c(2.5,5), ylim = c(15,30), main = \"Weight v/sMilage\")  "
   ]
  },
  {
   "cell_type": "code",
   "execution_count": null,
   "id": "837e2260",
   "metadata": {},
   "outputs": [],
   "source": []
  }
 ],
 "metadata": {
  "kernelspec": {
   "display_name": "R",
   "language": "R",
   "name": "ir"
  },
  "language_info": {
   "codemirror_mode": "r",
   "file_extension": ".r",
   "mimetype": "text/x-r-source",
   "name": "R",
   "pygments_lexer": "r",
   "version": "3.6.1"
  }
 },
 "nbformat": 4,
 "nbformat_minor": 5
}
