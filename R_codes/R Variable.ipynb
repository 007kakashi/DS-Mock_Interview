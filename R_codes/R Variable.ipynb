{
 "cells": [
  {
   "cell_type": "markdown",
   "id": "f29af9df",
   "metadata": {},
   "source": [
    "## R Variables\n",
    "\n",
    "Variables are names given to storage locations of data. Once we declare that a variable would hold some specific data"
   ]
  },
  {
   "cell_type": "markdown",
   "id": "efbf2f5d",
   "metadata": {},
   "source": [
    "### Rules for writing R Variables"
   ]
  },
  {
   "cell_type": "markdown",
   "id": "a243ef26",
   "metadata": {},
   "source": [
    "Following are the rules to give a valid name to an R variable.\n",
    "\n",
    "- It may contain letters (Examples : x, y, varx, .. )\n",
    "- It may contain numbers (Examples : x1, y1, var25x, .. )\n",
    "- It may contain special char Dot (.) (Examples : x., y., var.x, .. )\n",
    "- It may contain special char Underscore(_) (Examples : x_1, y_2, var_x, .. )\n",
    "- The first character in the name could be a letter. (Examples : x, y, varx, .. )\n",
    "- The first character in the name could be a dot not followed by a number. (Examples : .x, .y, varx, .. )\n",
    "- Reserved words in R could not be used for variables.\n",
    "\n",
    "Examples for invalid variable names : .2x, tan, er@t"
   ]
  },
  {
   "cell_type": "markdown",
   "id": "cb497a1f",
   "metadata": {},
   "source": [
    "### Assign value to R Variable"
   ]
  },
  {
   "cell_type": "markdown",
   "id": "9c5fdc64",
   "metadata": {},
   "source": [
    "R Variable can be assigned a value using one of the following three operators :\n",
    "\n",
    "- Equal Operator    =\n",
    "- Leftward Operator <-\n",
    "- Rightward Operator  ->"
   ]
  },
  {
   "cell_type": "code",
   "execution_count": 2,
   "id": "d2b853c6",
   "metadata": {},
   "outputs": [
    {
     "data": {
      "text/html": [
       "'hello'"
      ],
      "text/latex": [
       "'hello'"
      ],
      "text/markdown": [
       "'hello'"
      ],
      "text/plain": [
       "[1] \"hello\""
      ]
     },
     "metadata": {},
     "output_type": "display_data"
    }
   ],
   "source": [
    "x = 'hello'\n",
    "x"
   ]
  },
  {
   "cell_type": "code",
   "execution_count": 2,
   "id": "e89938ed",
   "metadata": {},
   "outputs": [
    {
     "data": {
      "text/html": [
       "'learn r'"
      ],
      "text/latex": [
       "'learn r'"
      ],
      "text/markdown": [
       "'learn r'"
      ],
      "text/plain": [
       "[1] \"learn r\""
      ]
     },
     "metadata": {},
     "output_type": "display_data"
    }
   ],
   "source": [
    "x <- 'learn r'\n",
    "x"
   ]
  },
  {
   "cell_type": "code",
   "execution_count": 3,
   "id": "007d9c04",
   "metadata": {},
   "outputs": [
    {
     "data": {
      "text/html": [
       "'r programming language'"
      ],
      "text/latex": [
       "'r programming language'"
      ],
      "text/markdown": [
       "'r programming language'"
      ],
      "text/plain": [
       "[1] \"r programming language\""
      ]
     },
     "metadata": {},
     "output_type": "display_data"
    }
   ],
   "source": [
    "'r programming language' -> x\n",
    "x"
   ]
  },
  {
   "cell_type": "markdown",
   "id": "8d48a5d5",
   "metadata": {},
   "source": [
    "### Find all R Variables"
   ]
  },
  {
   "cell_type": "code",
   "execution_count": 3,
   "id": "3d44b6e8",
   "metadata": {},
   "outputs": [
    {
     "data": {
      "text/html": [
       "'x'"
      ],
      "text/latex": [
       "'x'"
      ],
      "text/markdown": [
       "'x'"
      ],
      "text/plain": [
       "[1] \"x\""
      ]
     },
     "metadata": {},
     "output_type": "display_data"
    }
   ],
   "source": [
    "ls()"
   ]
  },
  {
   "cell_type": "markdown",
   "id": "4f8a6b23",
   "metadata": {},
   "source": [
    "### Delete an R Variable\n",
    "\n",
    "rm(variable_name) deletes an R variable from the stack of variables in a running instance."
   ]
  },
  {
   "cell_type": "code",
   "execution_count": 5,
   "id": "006a144f",
   "metadata": {},
   "outputs": [
    {
     "data": {
      "text/html": [
       "'x'"
      ],
      "text/latex": [
       "'x'"
      ],
      "text/markdown": [
       "'x'"
      ],
      "text/plain": [
       "[1] \"x\""
      ]
     },
     "metadata": {},
     "output_type": "display_data"
    }
   ],
   "source": [
    "ls()"
   ]
  },
  {
   "cell_type": "code",
   "execution_count": 6,
   "id": "70bd65e2",
   "metadata": {},
   "outputs": [],
   "source": [
    "rm(x)"
   ]
  },
  {
   "cell_type": "code",
   "execution_count": 7,
   "id": "5e87c414",
   "metadata": {},
   "outputs": [
    {
     "data": {
      "text/html": [],
      "text/latex": [],
      "text/markdown": [],
      "text/plain": [
       "character(0)"
      ]
     },
     "metadata": {},
     "output_type": "display_data"
    }
   ],
   "source": [
    "ls()"
   ]
  },
  {
   "cell_type": "code",
   "execution_count": 4,
   "id": "a8dfb65b",
   "metadata": {},
   "outputs": [],
   "source": [
    "rm(list = ls())"
   ]
  },
  {
   "cell_type": "markdown",
   "id": "d7eb7577",
   "metadata": {},
   "source": [
    "---"
   ]
  }
 ],
 "metadata": {
  "kernelspec": {
   "display_name": "R",
   "language": "R",
   "name": "ir"
  },
  "language_info": {
   "codemirror_mode": "r",
   "file_extension": ".r",
   "mimetype": "text/x-r-source",
   "name": "R",
   "pygments_lexer": "r",
   "version": "3.6.1"
  }
 },
 "nbformat": 4,
 "nbformat_minor": 5
}
