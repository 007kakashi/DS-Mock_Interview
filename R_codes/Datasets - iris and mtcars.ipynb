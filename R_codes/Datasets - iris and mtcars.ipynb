{
 "cells": [
  {
   "cell_type": "markdown",
   "id": "d040fcfe",
   "metadata": {},
   "source": [
    "## IRIS dataset"
   ]
  },
  {
   "cell_type": "code",
   "execution_count": 1,
   "id": "cee31441",
   "metadata": {},
   "outputs": [
    {
     "data": {
      "text/html": [
       "<table>\n",
       "<thead><tr><th scope=col>Sepal.Length</th><th scope=col>Sepal.Width</th><th scope=col>Petal.Length</th><th scope=col>Petal.Width</th><th scope=col>Species</th></tr></thead>\n",
       "<tbody>\n",
       "\t<tr><td>5.1   </td><td>3.5   </td><td>1.4   </td><td>0.2   </td><td>setosa</td></tr>\n",
       "\t<tr><td>4.9   </td><td>3.0   </td><td>1.4   </td><td>0.2   </td><td>setosa</td></tr>\n",
       "\t<tr><td>4.7   </td><td>3.2   </td><td>1.3   </td><td>0.2   </td><td>setosa</td></tr>\n",
       "\t<tr><td>4.6   </td><td>3.1   </td><td>1.5   </td><td>0.2   </td><td>setosa</td></tr>\n",
       "\t<tr><td>5.0   </td><td>3.6   </td><td>1.4   </td><td>0.2   </td><td>setosa</td></tr>\n",
       "\t<tr><td>5.4   </td><td>3.9   </td><td>1.7   </td><td>0.4   </td><td>setosa</td></tr>\n",
       "</tbody>\n",
       "</table>\n"
      ],
      "text/latex": [
       "\\begin{tabular}{r|lllll}\n",
       " Sepal.Length & Sepal.Width & Petal.Length & Petal.Width & Species\\\\\n",
       "\\hline\n",
       "\t 5.1    & 3.5    & 1.4    & 0.2    & setosa\\\\\n",
       "\t 4.9    & 3.0    & 1.4    & 0.2    & setosa\\\\\n",
       "\t 4.7    & 3.2    & 1.3    & 0.2    & setosa\\\\\n",
       "\t 4.6    & 3.1    & 1.5    & 0.2    & setosa\\\\\n",
       "\t 5.0    & 3.6    & 1.4    & 0.2    & setosa\\\\\n",
       "\t 5.4    & 3.9    & 1.7    & 0.4    & setosa\\\\\n",
       "\\end{tabular}\n"
      ],
      "text/markdown": [
       "\n",
       "| Sepal.Length | Sepal.Width | Petal.Length | Petal.Width | Species |\n",
       "|---|---|---|---|---|\n",
       "| 5.1    | 3.5    | 1.4    | 0.2    | setosa |\n",
       "| 4.9    | 3.0    | 1.4    | 0.2    | setosa |\n",
       "| 4.7    | 3.2    | 1.3    | 0.2    | setosa |\n",
       "| 4.6    | 3.1    | 1.5    | 0.2    | setosa |\n",
       "| 5.0    | 3.6    | 1.4    | 0.2    | setosa |\n",
       "| 5.4    | 3.9    | 1.7    | 0.4    | setosa |\n",
       "\n"
      ],
      "text/plain": [
       "  Sepal.Length Sepal.Width Petal.Length Petal.Width Species\n",
       "1 5.1          3.5         1.4          0.2         setosa \n",
       "2 4.9          3.0         1.4          0.2         setosa \n",
       "3 4.7          3.2         1.3          0.2         setosa \n",
       "4 4.6          3.1         1.5          0.2         setosa \n",
       "5 5.0          3.6         1.4          0.2         setosa \n",
       "6 5.4          3.9         1.7          0.4         setosa "
      ]
     },
     "metadata": {},
     "output_type": "display_data"
    }
   ],
   "source": [
    "data(\"iris\")\n",
    "#View(iris)\n",
    "head(iris)"
   ]
  },
  {
   "cell_type": "markdown",
   "id": "47e3ba89",
   "metadata": {},
   "source": [
    "### apply() function\n",
    "\n",
    "**apply()** takes Data frame or matrix as an input and gives output in vector, list or array. Apply function in R is primarily used to avoid explicit uses of loop constructs. It is the most basic of all collections can be used over a matrice."
   ]
  },
  {
   "cell_type": "raw",
   "id": "18c688b9",
   "metadata": {},
   "source": [
    "apply(X, MARGIN, FUN)\n",
    "Here:\n",
    "-x: an array or matrix\n",
    "-MARGIN:  take a value or range between 1 and 2 to define where to apply the function:\n",
    "-MARGIN=1`: the manipulation is performed on rows\n",
    "-MARGIN=2`: the manipulation is performed on columns\n",
    "-MARGIN=c(1,2)` the manipulation is performed on rows and columns\n",
    "-FUN: tells which function to apply. Built functions like mean, median, sum, min, max and even user-defined functions can be applied>"
   ]
  },
  {
   "cell_type": "code",
   "execution_count": 1,
   "id": "6dbf833f",
   "metadata": {},
   "outputs": [
    {
     "data": {
      "text/html": [
       "<table>\n",
       "<tbody>\n",
       "\t<tr><td>1 </td><td> 6</td><td>1 </td><td> 6</td><td>1 </td><td> 6</td></tr>\n",
       "\t<tr><td>2 </td><td> 7</td><td>2 </td><td> 7</td><td>2 </td><td> 7</td></tr>\n",
       "\t<tr><td>3 </td><td> 8</td><td>3 </td><td> 8</td><td>3 </td><td> 8</td></tr>\n",
       "\t<tr><td>4 </td><td> 9</td><td>4 </td><td> 9</td><td>4 </td><td> 9</td></tr>\n",
       "\t<tr><td>5 </td><td>10</td><td>5 </td><td>10</td><td>5 </td><td>10</td></tr>\n",
       "</tbody>\n",
       "</table>\n"
      ],
      "text/latex": [
       "\\begin{tabular}{llllll}\n",
       "\t 1  &  6 & 1  &  6 & 1  &  6\\\\\n",
       "\t 2  &  7 & 2  &  7 & 2  &  7\\\\\n",
       "\t 3  &  8 & 3  &  8 & 3  &  8\\\\\n",
       "\t 4  &  9 & 4  &  9 & 4  &  9\\\\\n",
       "\t 5  & 10 & 5  & 10 & 5  & 10\\\\\n",
       "\\end{tabular}\n"
      ],
      "text/markdown": [
       "\n",
       "| 1  |  6 | 1  |  6 | 1  |  6 |\n",
       "| 2  |  7 | 2  |  7 | 2  |  7 |\n",
       "| 3  |  8 | 3  |  8 | 3  |  8 |\n",
       "| 4  |  9 | 4  |  9 | 4  |  9 |\n",
       "| 5  | 10 | 5  | 10 | 5  | 10 |\n",
       "\n"
      ],
      "text/plain": [
       "     [,1] [,2] [,3] [,4] [,5] [,6]\n",
       "[1,] 1     6   1     6   1     6  \n",
       "[2,] 2     7   2     7   2     7  \n",
       "[3,] 3     8   3     8   3     8  \n",
       "[4,] 4     9   4     9   4     9  \n",
       "[5,] 5    10   5    10   5    10  "
      ]
     },
     "metadata": {},
     "output_type": "display_data"
    },
    {
     "data": {
      "text/html": [
       "<ol class=list-inline>\n",
       "\t<li>21</li>\n",
       "\t<li>27</li>\n",
       "\t<li>33</li>\n",
       "\t<li>39</li>\n",
       "\t<li>45</li>\n",
       "</ol>\n"
      ],
      "text/latex": [
       "\\begin{enumerate*}\n",
       "\\item 21\n",
       "\\item 27\n",
       "\\item 33\n",
       "\\item 39\n",
       "\\item 45\n",
       "\\end{enumerate*}\n"
      ],
      "text/markdown": [
       "1. 21\n",
       "2. 27\n",
       "3. 33\n",
       "4. 39\n",
       "5. 45\n",
       "\n",
       "\n"
      ],
      "text/plain": [
       "[1] 21 27 33 39 45"
      ]
     },
     "metadata": {},
     "output_type": "display_data"
    }
   ],
   "source": [
    "m1 <- matrix(C<-(1:10),nrow=5, ncol=6)\n",
    "m1\n",
    "a_m1 <- apply(m1, 1, sum)\n",
    "a_m1"
   ]
  },
  {
   "cell_type": "code",
   "execution_count": 2,
   "id": "fd2d77f8",
   "metadata": {},
   "outputs": [
    {
     "data": {
      "text/html": [
       "<dl class=dl-horizontal>\n",
       "\t<dt>Sepal.Length</dt>\n",
       "\t\t<dd>5.84333333333333</dd>\n",
       "\t<dt>Sepal.Width</dt>\n",
       "\t\t<dd>3.05733333333333</dd>\n",
       "\t<dt>Petal.Length</dt>\n",
       "\t\t<dd>3.758</dd>\n",
       "\t<dt>Petal.Width</dt>\n",
       "\t\t<dd>1.19933333333333</dd>\n",
       "</dl>\n"
      ],
      "text/latex": [
       "\\begin{description*}\n",
       "\\item[Sepal.Length] 5.84333333333333\n",
       "\\item[Sepal.Width] 3.05733333333333\n",
       "\\item[Petal.Length] 3.758\n",
       "\\item[Petal.Width] 1.19933333333333\n",
       "\\end{description*}\n"
      ],
      "text/markdown": [
       "Sepal.Length\n",
       ":   5.84333333333333Sepal.Width\n",
       ":   3.05733333333333Petal.Length\n",
       ":   3.758Petal.Width\n",
       ":   1.19933333333333\n",
       "\n"
      ],
      "text/plain": [
       "Sepal.Length  Sepal.Width Petal.Length  Petal.Width \n",
       "    5.843333     3.057333     3.758000     1.199333 "
      ]
     },
     "metadata": {},
     "output_type": "display_data"
    }
   ],
   "source": [
    "# Apply functions \n",
    "# Returns a vector or array or list of values obtained by \n",
    "#applying a function to margins of an array or matrix or data frames \n",
    "#apply(df , 1 or 2 , function)\n",
    "z = apply(iris[,1:4],2,mean)\n",
    "z"
   ]
  },
  {
   "cell_type": "markdown",
   "id": "124b3a26",
   "metadata": {},
   "source": [
    "### lapply() function\n",
    "**lapply()** function is useful for performing operations on list objects and returns a list object of same length of original set. lappy() returns a list of the similar length as input list object, each element of which is the result of applying FUN to the corresponding element of list. Lapply in R takes list, vector or data frame as input and gives output in list."
   ]
  },
  {
   "cell_type": "raw",
   "id": "eba67f99",
   "metadata": {},
   "source": [
    "lapply(X, FUN)\n",
    "Arguments:\n",
    "-X: A vector or an object\n",
    "-FUN: Function applied to each element of x"
   ]
  },
  {
   "cell_type": "code",
   "execution_count": 2,
   "id": "35a589fd",
   "metadata": {},
   "outputs": [
    {
     "name": "stdout",
     "output_type": "stream",
     "text": [
      "List of 4\n",
      " $ : chr \"spyderman\"\n",
      " $ : chr \"batman\"\n",
      " $ : chr \"vertigo\"\n",
      " $ : chr \"chinatown\"\n"
     ]
    }
   ],
   "source": [
    "movies <- c(\"SPYDERMAN\",\"BATMAN\",\"VERTIGO\",\"CHINATOWN\")\n",
    "movies_lower <-lapply(movies, tolower)\n",
    "str(movies_lower)"
   ]
  },
  {
   "cell_type": "code",
   "execution_count": 4,
   "id": "9dbd67cf",
   "metadata": {},
   "outputs": [
    {
     "data": {
      "text/html": [
       "<dl>\n",
       "\t<dt>$Sepal.Length</dt>\n",
       "\t\t<dd>5.84333333333333</dd>\n",
       "\t<dt>$Sepal.Width</dt>\n",
       "\t\t<dd>3.05733333333333</dd>\n",
       "\t<dt>$Petal.Length</dt>\n",
       "\t\t<dd>3.758</dd>\n",
       "\t<dt>$Petal.Width</dt>\n",
       "\t\t<dd>1.19933333333333</dd>\n",
       "</dl>\n"
      ],
      "text/latex": [
       "\\begin{description}\n",
       "\\item[\\$Sepal.Length] 5.84333333333333\n",
       "\\item[\\$Sepal.Width] 3.05733333333333\n",
       "\\item[\\$Petal.Length] 3.758\n",
       "\\item[\\$Petal.Width] 1.19933333333333\n",
       "\\end{description}\n"
      ],
      "text/markdown": [
       "$Sepal.Length\n",
       ":   5.84333333333333\n",
       "$Sepal.Width\n",
       ":   3.05733333333333\n",
       "$Petal.Length\n",
       ":   3.758\n",
       "$Petal.Width\n",
       ":   1.19933333333333\n",
       "\n",
       "\n"
      ],
      "text/plain": [
       "$Sepal.Length\n",
       "[1] 5.843333\n",
       "\n",
       "$Sepal.Width\n",
       "[1] 3.057333\n",
       "\n",
       "$Petal.Length\n",
       "[1] 3.758\n",
       "\n",
       "$Petal.Width\n",
       "[1] 1.199333\n"
      ]
     },
     "metadata": {},
     "output_type": "display_data"
    }
   ],
   "source": [
    "# # lapply function takes list, vector or Data frame  as input and returns only list as output\n",
    "#lapply(df , function)\n",
    "x = lapply(iris[,1:4],mean)\n",
    "x"
   ]
  },
  {
   "cell_type": "markdown",
   "id": "ea6425e4",
   "metadata": {},
   "source": [
    "### sapply() function\n",
    "**sapply()** function takes list, vector or data frame as input and gives output in vector or matrix. It is useful for operations on list objects and returns a list object of same length of original set. Sapply function in R does the same job as lapply() function but returns a vector."
   ]
  },
  {
   "cell_type": "raw",
   "id": "ad009551",
   "metadata": {},
   "source": [
    "sapply(X, FUN)\n",
    "Arguments:\n",
    "-X: A vector or an object\n",
    "-FUN: Function applied to each element of x"
   ]
  },
  {
   "cell_type": "code",
   "execution_count": 5,
   "id": "91a4a306",
   "metadata": {},
   "outputs": [
    {
     "data": {
      "text/html": [
       "<dl class=dl-horizontal>\n",
       "\t<dt>Sepal.Length</dt>\n",
       "\t\t<dd>5.84333333333333</dd>\n",
       "\t<dt>Sepal.Width</dt>\n",
       "\t\t<dd>3.05733333333333</dd>\n",
       "\t<dt>Petal.Length</dt>\n",
       "\t\t<dd>3.758</dd>\n",
       "\t<dt>Petal.Width</dt>\n",
       "\t\t<dd>1.19933333333333</dd>\n",
       "</dl>\n"
      ],
      "text/latex": [
       "\\begin{description*}\n",
       "\\item[Sepal.Length] 5.84333333333333\n",
       "\\item[Sepal.Width] 3.05733333333333\n",
       "\\item[Petal.Length] 3.758\n",
       "\\item[Petal.Width] 1.19933333333333\n",
       "\\end{description*}\n"
      ],
      "text/markdown": [
       "Sepal.Length\n",
       ":   5.84333333333333Sepal.Width\n",
       ":   3.05733333333333Petal.Length\n",
       ":   3.758Petal.Width\n",
       ":   1.19933333333333\n",
       "\n"
      ],
      "text/plain": [
       "Sepal.Length  Sepal.Width Petal.Length  Petal.Width \n",
       "    5.843333     3.057333     3.758000     1.199333 "
      ]
     },
     "metadata": {},
     "output_type": "display_data"
    }
   ],
   "source": [
    "# # sapply function takes list, vector or Data frame  as input. It is similar to lapply \n",
    "#function but returns only vector as output\n",
    "\n",
    "y = sapply(iris[,1:4],mean)\n",
    "y"
   ]
  },
  {
   "cell_type": "code",
   "execution_count": 6,
   "id": "e8d4b161",
   "metadata": {},
   "outputs": [
    {
     "data": {
      "text/html": [
       "<ol class=list-inline>\n",
       "\t<li>5.1</li>\n",
       "\t<li>4.9</li>\n",
       "\t<li>4.7</li>\n",
       "\t<li>4.6</li>\n",
       "\t<li>5</li>\n",
       "\t<li>5.4</li>\n",
       "\t<li>4.6</li>\n",
       "\t<li>5</li>\n",
       "\t<li>4.4</li>\n",
       "\t<li>4.9</li>\n",
       "\t<li>5.4</li>\n",
       "\t<li>4.8</li>\n",
       "\t<li>4.8</li>\n",
       "\t<li>4.3</li>\n",
       "\t<li>5.8</li>\n",
       "\t<li>5.7</li>\n",
       "\t<li>5.4</li>\n",
       "\t<li>5.1</li>\n",
       "\t<li>5.7</li>\n",
       "\t<li>5.1</li>\n",
       "\t<li>5.4</li>\n",
       "\t<li>5.1</li>\n",
       "\t<li>4.6</li>\n",
       "\t<li>5.1</li>\n",
       "\t<li>4.8</li>\n",
       "\t<li>5</li>\n",
       "\t<li>5</li>\n",
       "\t<li>5.2</li>\n",
       "\t<li>5.2</li>\n",
       "\t<li>4.7</li>\n",
       "\t<li>4.8</li>\n",
       "\t<li>5.4</li>\n",
       "\t<li>5.2</li>\n",
       "\t<li>5.5</li>\n",
       "\t<li>4.9</li>\n",
       "\t<li>5</li>\n",
       "\t<li>5.5</li>\n",
       "\t<li>4.9</li>\n",
       "\t<li>4.4</li>\n",
       "\t<li>5.1</li>\n",
       "\t<li>5</li>\n",
       "\t<li>4.5</li>\n",
       "\t<li>4.4</li>\n",
       "\t<li>5</li>\n",
       "\t<li>5.1</li>\n",
       "\t<li>4.8</li>\n",
       "\t<li>5.1</li>\n",
       "\t<li>4.6</li>\n",
       "\t<li>5.3</li>\n",
       "\t<li>5</li>\n",
       "\t<li>7</li>\n",
       "\t<li>6.4</li>\n",
       "\t<li>6.9</li>\n",
       "\t<li>5.5</li>\n",
       "\t<li>6.5</li>\n",
       "\t<li>5.7</li>\n",
       "\t<li>6.3</li>\n",
       "\t<li>4.9</li>\n",
       "\t<li>6.6</li>\n",
       "\t<li>5.2</li>\n",
       "\t<li>5</li>\n",
       "\t<li>5.9</li>\n",
       "\t<li>6</li>\n",
       "\t<li>6.1</li>\n",
       "\t<li>5.6</li>\n",
       "\t<li>6.7</li>\n",
       "\t<li>5.6</li>\n",
       "\t<li>5.8</li>\n",
       "\t<li>6.2</li>\n",
       "\t<li>5.6</li>\n",
       "\t<li>5.9</li>\n",
       "\t<li>6.1</li>\n",
       "\t<li>6.3</li>\n",
       "\t<li>6.1</li>\n",
       "\t<li>6.4</li>\n",
       "\t<li>6.6</li>\n",
       "\t<li>6.8</li>\n",
       "\t<li>6.7</li>\n",
       "\t<li>6</li>\n",
       "\t<li>5.7</li>\n",
       "\t<li>5.5</li>\n",
       "\t<li>5.5</li>\n",
       "\t<li>5.8</li>\n",
       "\t<li>6</li>\n",
       "\t<li>5.4</li>\n",
       "\t<li>6</li>\n",
       "\t<li>6.7</li>\n",
       "\t<li>6.3</li>\n",
       "\t<li>5.6</li>\n",
       "\t<li>5.5</li>\n",
       "\t<li>5.5</li>\n",
       "\t<li>6.1</li>\n",
       "\t<li>5.8</li>\n",
       "\t<li>5</li>\n",
       "\t<li>5.6</li>\n",
       "\t<li>5.7</li>\n",
       "\t<li>5.7</li>\n",
       "\t<li>6.2</li>\n",
       "\t<li>5.1</li>\n",
       "\t<li>5.7</li>\n",
       "\t<li>6.3</li>\n",
       "\t<li>5.8</li>\n",
       "\t<li>7.1</li>\n",
       "\t<li>6.3</li>\n",
       "\t<li>6.5</li>\n",
       "\t<li>7.6</li>\n",
       "\t<li>4.9</li>\n",
       "\t<li>7.3</li>\n",
       "\t<li>6.7</li>\n",
       "\t<li>7.2</li>\n",
       "\t<li>6.5</li>\n",
       "\t<li>6.4</li>\n",
       "\t<li>6.8</li>\n",
       "\t<li>5.7</li>\n",
       "\t<li>5.8</li>\n",
       "\t<li>6.4</li>\n",
       "\t<li>6.5</li>\n",
       "\t<li>7.7</li>\n",
       "\t<li>7.7</li>\n",
       "\t<li>6</li>\n",
       "\t<li>6.9</li>\n",
       "\t<li>5.6</li>\n",
       "\t<li>7.7</li>\n",
       "\t<li>6.3</li>\n",
       "\t<li>6.7</li>\n",
       "\t<li>7.2</li>\n",
       "\t<li>6.2</li>\n",
       "\t<li>6.1</li>\n",
       "\t<li>6.4</li>\n",
       "\t<li>7.2</li>\n",
       "\t<li>7.4</li>\n",
       "\t<li>7.9</li>\n",
       "\t<li>6.4</li>\n",
       "\t<li>6.3</li>\n",
       "\t<li>6.1</li>\n",
       "\t<li>7.7</li>\n",
       "\t<li>6.3</li>\n",
       "\t<li>6.4</li>\n",
       "\t<li>6</li>\n",
       "\t<li>6.9</li>\n",
       "\t<li>6.7</li>\n",
       "\t<li>6.9</li>\n",
       "\t<li>5.8</li>\n",
       "\t<li>6.8</li>\n",
       "\t<li>6.7</li>\n",
       "\t<li>6.7</li>\n",
       "\t<li>6.3</li>\n",
       "\t<li>6.5</li>\n",
       "\t<li>6.2</li>\n",
       "\t<li>5.9</li>\n",
       "</ol>\n"
      ],
      "text/latex": [
       "\\begin{enumerate*}\n",
       "\\item 5.1\n",
       "\\item 4.9\n",
       "\\item 4.7\n",
       "\\item 4.6\n",
       "\\item 5\n",
       "\\item 5.4\n",
       "\\item 4.6\n",
       "\\item 5\n",
       "\\item 4.4\n",
       "\\item 4.9\n",
       "\\item 5.4\n",
       "\\item 4.8\n",
       "\\item 4.8\n",
       "\\item 4.3\n",
       "\\item 5.8\n",
       "\\item 5.7\n",
       "\\item 5.4\n",
       "\\item 5.1\n",
       "\\item 5.7\n",
       "\\item 5.1\n",
       "\\item 5.4\n",
       "\\item 5.1\n",
       "\\item 4.6\n",
       "\\item 5.1\n",
       "\\item 4.8\n",
       "\\item 5\n",
       "\\item 5\n",
       "\\item 5.2\n",
       "\\item 5.2\n",
       "\\item 4.7\n",
       "\\item 4.8\n",
       "\\item 5.4\n",
       "\\item 5.2\n",
       "\\item 5.5\n",
       "\\item 4.9\n",
       "\\item 5\n",
       "\\item 5.5\n",
       "\\item 4.9\n",
       "\\item 4.4\n",
       "\\item 5.1\n",
       "\\item 5\n",
       "\\item 4.5\n",
       "\\item 4.4\n",
       "\\item 5\n",
       "\\item 5.1\n",
       "\\item 4.8\n",
       "\\item 5.1\n",
       "\\item 4.6\n",
       "\\item 5.3\n",
       "\\item 5\n",
       "\\item 7\n",
       "\\item 6.4\n",
       "\\item 6.9\n",
       "\\item 5.5\n",
       "\\item 6.5\n",
       "\\item 5.7\n",
       "\\item 6.3\n",
       "\\item 4.9\n",
       "\\item 6.6\n",
       "\\item 5.2\n",
       "\\item 5\n",
       "\\item 5.9\n",
       "\\item 6\n",
       "\\item 6.1\n",
       "\\item 5.6\n",
       "\\item 6.7\n",
       "\\item 5.6\n",
       "\\item 5.8\n",
       "\\item 6.2\n",
       "\\item 5.6\n",
       "\\item 5.9\n",
       "\\item 6.1\n",
       "\\item 6.3\n",
       "\\item 6.1\n",
       "\\item 6.4\n",
       "\\item 6.6\n",
       "\\item 6.8\n",
       "\\item 6.7\n",
       "\\item 6\n",
       "\\item 5.7\n",
       "\\item 5.5\n",
       "\\item 5.5\n",
       "\\item 5.8\n",
       "\\item 6\n",
       "\\item 5.4\n",
       "\\item 6\n",
       "\\item 6.7\n",
       "\\item 6.3\n",
       "\\item 5.6\n",
       "\\item 5.5\n",
       "\\item 5.5\n",
       "\\item 6.1\n",
       "\\item 5.8\n",
       "\\item 5\n",
       "\\item 5.6\n",
       "\\item 5.7\n",
       "\\item 5.7\n",
       "\\item 6.2\n",
       "\\item 5.1\n",
       "\\item 5.7\n",
       "\\item 6.3\n",
       "\\item 5.8\n",
       "\\item 7.1\n",
       "\\item 6.3\n",
       "\\item 6.5\n",
       "\\item 7.6\n",
       "\\item 4.9\n",
       "\\item 7.3\n",
       "\\item 6.7\n",
       "\\item 7.2\n",
       "\\item 6.5\n",
       "\\item 6.4\n",
       "\\item 6.8\n",
       "\\item 5.7\n",
       "\\item 5.8\n",
       "\\item 6.4\n",
       "\\item 6.5\n",
       "\\item 7.7\n",
       "\\item 7.7\n",
       "\\item 6\n",
       "\\item 6.9\n",
       "\\item 5.6\n",
       "\\item 7.7\n",
       "\\item 6.3\n",
       "\\item 6.7\n",
       "\\item 7.2\n",
       "\\item 6.2\n",
       "\\item 6.1\n",
       "\\item 6.4\n",
       "\\item 7.2\n",
       "\\item 7.4\n",
       "\\item 7.9\n",
       "\\item 6.4\n",
       "\\item 6.3\n",
       "\\item 6.1\n",
       "\\item 7.7\n",
       "\\item 6.3\n",
       "\\item 6.4\n",
       "\\item 6\n",
       "\\item 6.9\n",
       "\\item 6.7\n",
       "\\item 6.9\n",
       "\\item 5.8\n",
       "\\item 6.8\n",
       "\\item 6.7\n",
       "\\item 6.7\n",
       "\\item 6.3\n",
       "\\item 6.5\n",
       "\\item 6.2\n",
       "\\item 5.9\n",
       "\\end{enumerate*}\n"
      ],
      "text/markdown": [
       "1. 5.1\n",
       "2. 4.9\n",
       "3. 4.7\n",
       "4. 4.6\n",
       "5. 5\n",
       "6. 5.4\n",
       "7. 4.6\n",
       "8. 5\n",
       "9. 4.4\n",
       "10. 4.9\n",
       "11. 5.4\n",
       "12. 4.8\n",
       "13. 4.8\n",
       "14. 4.3\n",
       "15. 5.8\n",
       "16. 5.7\n",
       "17. 5.4\n",
       "18. 5.1\n",
       "19. 5.7\n",
       "20. 5.1\n",
       "21. 5.4\n",
       "22. 5.1\n",
       "23. 4.6\n",
       "24. 5.1\n",
       "25. 4.8\n",
       "26. 5\n",
       "27. 5\n",
       "28. 5.2\n",
       "29. 5.2\n",
       "30. 4.7\n",
       "31. 4.8\n",
       "32. 5.4\n",
       "33. 5.2\n",
       "34. 5.5\n",
       "35. 4.9\n",
       "36. 5\n",
       "37. 5.5\n",
       "38. 4.9\n",
       "39. 4.4\n",
       "40. 5.1\n",
       "41. 5\n",
       "42. 4.5\n",
       "43. 4.4\n",
       "44. 5\n",
       "45. 5.1\n",
       "46. 4.8\n",
       "47. 5.1\n",
       "48. 4.6\n",
       "49. 5.3\n",
       "50. 5\n",
       "51. 7\n",
       "52. 6.4\n",
       "53. 6.9\n",
       "54. 5.5\n",
       "55. 6.5\n",
       "56. 5.7\n",
       "57. 6.3\n",
       "58. 4.9\n",
       "59. 6.6\n",
       "60. 5.2\n",
       "61. 5\n",
       "62. 5.9\n",
       "63. 6\n",
       "64. 6.1\n",
       "65. 5.6\n",
       "66. 6.7\n",
       "67. 5.6\n",
       "68. 5.8\n",
       "69. 6.2\n",
       "70. 5.6\n",
       "71. 5.9\n",
       "72. 6.1\n",
       "73. 6.3\n",
       "74. 6.1\n",
       "75. 6.4\n",
       "76. 6.6\n",
       "77. 6.8\n",
       "78. 6.7\n",
       "79. 6\n",
       "80. 5.7\n",
       "81. 5.5\n",
       "82. 5.5\n",
       "83. 5.8\n",
       "84. 6\n",
       "85. 5.4\n",
       "86. 6\n",
       "87. 6.7\n",
       "88. 6.3\n",
       "89. 5.6\n",
       "90. 5.5\n",
       "91. 5.5\n",
       "92. 6.1\n",
       "93. 5.8\n",
       "94. 5\n",
       "95. 5.6\n",
       "96. 5.7\n",
       "97. 5.7\n",
       "98. 6.2\n",
       "99. 5.1\n",
       "100. 5.7\n",
       "101. 6.3\n",
       "102. 5.8\n",
       "103. 7.1\n",
       "104. 6.3\n",
       "105. 6.5\n",
       "106. 7.6\n",
       "107. 4.9\n",
       "108. 7.3\n",
       "109. 6.7\n",
       "110. 7.2\n",
       "111. 6.5\n",
       "112. 6.4\n",
       "113. 6.8\n",
       "114. 5.7\n",
       "115. 5.8\n",
       "116. 6.4\n",
       "117. 6.5\n",
       "118. 7.7\n",
       "119. 7.7\n",
       "120. 6\n",
       "121. 6.9\n",
       "122. 5.6\n",
       "123. 7.7\n",
       "124. 6.3\n",
       "125. 6.7\n",
       "126. 7.2\n",
       "127. 6.2\n",
       "128. 6.1\n",
       "129. 6.4\n",
       "130. 7.2\n",
       "131. 7.4\n",
       "132. 7.9\n",
       "133. 6.4\n",
       "134. 6.3\n",
       "135. 6.1\n",
       "136. 7.7\n",
       "137. 6.3\n",
       "138. 6.4\n",
       "139. 6\n",
       "140. 6.9\n",
       "141. 6.7\n",
       "142. 6.9\n",
       "143. 5.8\n",
       "144. 6.8\n",
       "145. 6.7\n",
       "146. 6.7\n",
       "147. 6.3\n",
       "148. 6.5\n",
       "149. 6.2\n",
       "150. 5.9\n",
       "\n",
       "\n"
      ],
      "text/plain": [
       "  [1] 5.1 4.9 4.7 4.6 5.0 5.4 4.6 5.0 4.4 4.9 5.4 4.8 4.8 4.3 5.8 5.7 5.4 5.1\n",
       " [19] 5.7 5.1 5.4 5.1 4.6 5.1 4.8 5.0 5.0 5.2 5.2 4.7 4.8 5.4 5.2 5.5 4.9 5.0\n",
       " [37] 5.5 4.9 4.4 5.1 5.0 4.5 4.4 5.0 5.1 4.8 5.1 4.6 5.3 5.0 7.0 6.4 6.9 5.5\n",
       " [55] 6.5 5.7 6.3 4.9 6.6 5.2 5.0 5.9 6.0 6.1 5.6 6.7 5.6 5.8 6.2 5.6 5.9 6.1\n",
       " [73] 6.3 6.1 6.4 6.6 6.8 6.7 6.0 5.7 5.5 5.5 5.8 6.0 5.4 6.0 6.7 6.3 5.6 5.5\n",
       " [91] 5.5 6.1 5.8 5.0 5.6 5.7 5.7 6.2 5.1 5.7 6.3 5.8 7.1 6.3 6.5 7.6 4.9 7.3\n",
       "[109] 6.7 7.2 6.5 6.4 6.8 5.7 5.8 6.4 6.5 7.7 7.7 6.0 6.9 5.6 7.7 6.3 6.7 7.2\n",
       "[127] 6.2 6.1 6.4 7.2 7.4 7.9 6.4 6.3 6.1 7.7 6.3 6.4 6.0 6.9 6.7 6.9 5.8 6.8\n",
       "[145] 6.7 6.7 6.3 6.5 6.2 5.9"
      ]
     },
     "metadata": {},
     "output_type": "display_data"
    }
   ],
   "source": [
    "iris$Sepal.Length"
   ]
  },
  {
   "attachments": {
    "image.png": {
     "image/png": "[encoded data removed]"
    }
   },
   "cell_type": "markdown",
   "id": "b54be4ce",
   "metadata": {},
   "source": [
    "#### Summary\n",
    "![image.png](attachment:image.png)"
   ]
  },
  {
   "cell_type": "markdown",
   "id": "6288be0d",
   "metadata": {},
   "source": [
    "#### Attach\n",
    "\n",
    "- The database is attached to the R search path. This means that the database is searched by R when evaluating a variable, so objects in the database can be accessed by simply giving their names."
   ]
  },
  {
   "cell_type": "code",
   "execution_count": 11,
   "id": "6e78083a",
   "metadata": {},
   "outputs": [],
   "source": [
    "attach(iris)"
   ]
  },
  {
   "cell_type": "code",
   "execution_count": 12,
   "id": "bf98078e",
   "metadata": {},
   "outputs": [
    {
     "data": {
      "text/html": [
       "<ol class=list-inline>\n",
       "\t<li>5.1</li>\n",
       "\t<li>4.9</li>\n",
       "\t<li>4.7</li>\n",
       "\t<li>4.6</li>\n",
       "\t<li>5</li>\n",
       "\t<li>5.4</li>\n",
       "\t<li>4.6</li>\n",
       "\t<li>5</li>\n",
       "\t<li>4.4</li>\n",
       "\t<li>4.9</li>\n",
       "\t<li>5.4</li>\n",
       "\t<li>4.8</li>\n",
       "\t<li>4.8</li>\n",
       "\t<li>4.3</li>\n",
       "\t<li>5.8</li>\n",
       "\t<li>5.7</li>\n",
       "\t<li>5.4</li>\n",
       "\t<li>5.1</li>\n",
       "\t<li>5.7</li>\n",
       "\t<li>5.1</li>\n",
       "\t<li>5.4</li>\n",
       "\t<li>5.1</li>\n",
       "\t<li>4.6</li>\n",
       "\t<li>5.1</li>\n",
       "\t<li>4.8</li>\n",
       "\t<li>5</li>\n",
       "\t<li>5</li>\n",
       "\t<li>5.2</li>\n",
       "\t<li>5.2</li>\n",
       "\t<li>4.7</li>\n",
       "\t<li>4.8</li>\n",
       "\t<li>5.4</li>\n",
       "\t<li>5.2</li>\n",
       "\t<li>5.5</li>\n",
       "\t<li>4.9</li>\n",
       "\t<li>5</li>\n",
       "\t<li>5.5</li>\n",
       "\t<li>4.9</li>\n",
       "\t<li>4.4</li>\n",
       "\t<li>5.1</li>\n",
       "\t<li>5</li>\n",
       "\t<li>4.5</li>\n",
       "\t<li>4.4</li>\n",
       "\t<li>5</li>\n",
       "\t<li>5.1</li>\n",
       "\t<li>4.8</li>\n",
       "\t<li>5.1</li>\n",
       "\t<li>4.6</li>\n",
       "\t<li>5.3</li>\n",
       "\t<li>5</li>\n",
       "\t<li>7</li>\n",
       "\t<li>6.4</li>\n",
       "\t<li>6.9</li>\n",
       "\t<li>5.5</li>\n",
       "\t<li>6.5</li>\n",
       "\t<li>5.7</li>\n",
       "\t<li>6.3</li>\n",
       "\t<li>4.9</li>\n",
       "\t<li>6.6</li>\n",
       "\t<li>5.2</li>\n",
       "\t<li>5</li>\n",
       "\t<li>5.9</li>\n",
       "\t<li>6</li>\n",
       "\t<li>6.1</li>\n",
       "\t<li>5.6</li>\n",
       "\t<li>6.7</li>\n",
       "\t<li>5.6</li>\n",
       "\t<li>5.8</li>\n",
       "\t<li>6.2</li>\n",
       "\t<li>5.6</li>\n",
       "\t<li>5.9</li>\n",
       "\t<li>6.1</li>\n",
       "\t<li>6.3</li>\n",
       "\t<li>6.1</li>\n",
       "\t<li>6.4</li>\n",
       "\t<li>6.6</li>\n",
       "\t<li>6.8</li>\n",
       "\t<li>6.7</li>\n",
       "\t<li>6</li>\n",
       "\t<li>5.7</li>\n",
       "\t<li>5.5</li>\n",
       "\t<li>5.5</li>\n",
       "\t<li>5.8</li>\n",
       "\t<li>6</li>\n",
       "\t<li>5.4</li>\n",
       "\t<li>6</li>\n",
       "\t<li>6.7</li>\n",
       "\t<li>6.3</li>\n",
       "\t<li>5.6</li>\n",
       "\t<li>5.5</li>\n",
       "\t<li>5.5</li>\n",
       "\t<li>6.1</li>\n",
       "\t<li>5.8</li>\n",
       "\t<li>5</li>\n",
       "\t<li>5.6</li>\n",
       "\t<li>5.7</li>\n",
       "\t<li>5.7</li>\n",
       "\t<li>6.2</li>\n",
       "\t<li>5.1</li>\n",
       "\t<li>5.7</li>\n",
       "\t<li>6.3</li>\n",
       "\t<li>5.8</li>\n",
       "\t<li>7.1</li>\n",
       "\t<li>6.3</li>\n",
       "\t<li>6.5</li>\n",
       "\t<li>7.6</li>\n",
       "\t<li>4.9</li>\n",
       "\t<li>7.3</li>\n",
       "\t<li>6.7</li>\n",
       "\t<li>7.2</li>\n",
       "\t<li>6.5</li>\n",
       "\t<li>6.4</li>\n",
       "\t<li>6.8</li>\n",
       "\t<li>5.7</li>\n",
       "\t<li>5.8</li>\n",
       "\t<li>6.4</li>\n",
       "\t<li>6.5</li>\n",
       "\t<li>7.7</li>\n",
       "\t<li>7.7</li>\n",
       "\t<li>6</li>\n",
       "\t<li>6.9</li>\n",
       "\t<li>5.6</li>\n",
       "\t<li>7.7</li>\n",
       "\t<li>6.3</li>\n",
       "\t<li>6.7</li>\n",
       "\t<li>7.2</li>\n",
       "\t<li>6.2</li>\n",
       "\t<li>6.1</li>\n",
       "\t<li>6.4</li>\n",
       "\t<li>7.2</li>\n",
       "\t<li>7.4</li>\n",
       "\t<li>7.9</li>\n",
       "\t<li>6.4</li>\n",
       "\t<li>6.3</li>\n",
       "\t<li>6.1</li>\n",
       "\t<li>7.7</li>\n",
       "\t<li>6.3</li>\n",
       "\t<li>6.4</li>\n",
       "\t<li>6</li>\n",
       "\t<li>6.9</li>\n",
       "\t<li>6.7</li>\n",
       "\t<li>6.9</li>\n",
       "\t<li>5.8</li>\n",
       "\t<li>6.8</li>\n",
       "\t<li>6.7</li>\n",
       "\t<li>6.7</li>\n",
       "\t<li>6.3</li>\n",
       "\t<li>6.5</li>\n",
       "\t<li>6.2</li>\n",
       "\t<li>5.9</li>\n",
       "</ol>\n"
      ],
      "text/latex": [
       "\\begin{enumerate*}\n",
       "\\item 5.1\n",
       "\\item 4.9\n",
       "\\item 4.7\n",
       "\\item 4.6\n",
       "\\item 5\n",
       "\\item 5.4\n",
       "\\item 4.6\n",
       "\\item 5\n",
       "\\item 4.4\n",
       "\\item 4.9\n",
       "\\item 5.4\n",
       "\\item 4.8\n",
       "\\item 4.8\n",
       "\\item 4.3\n",
       "\\item 5.8\n",
       "\\item 5.7\n",
       "\\item 5.4\n",
       "\\item 5.1\n",
       "\\item 5.7\n",
       "\\item 5.1\n",
       "\\item 5.4\n",
       "\\item 5.1\n",
       "\\item 4.6\n",
       "\\item 5.1\n",
       "\\item 4.8\n",
       "\\item 5\n",
       "\\item 5\n",
       "\\item 5.2\n",
       "\\item 5.2\n",
       "\\item 4.7\n",
       "\\item 4.8\n",
       "\\item 5.4\n",
       "\\item 5.2\n",
       "\\item 5.5\n",
       "\\item 4.9\n",
       "\\item 5\n",
       "\\item 5.5\n",
       "\\item 4.9\n",
       "\\item 4.4\n",
       "\\item 5.1\n",
       "\\item 5\n",
       "\\item 4.5\n",
       "\\item 4.4\n",
       "\\item 5\n",
       "\\item 5.1\n",
       "\\item 4.8\n",
       "\\item 5.1\n",
       "\\item 4.6\n",
       "\\item 5.3\n",
       "\\item 5\n",
       "\\item 7\n",
       "\\item 6.4\n",
       "\\item 6.9\n",
       "\\item 5.5\n",
       "\\item 6.5\n",
       "\\item 5.7\n",
       "\\item 6.3\n",
       "\\item 4.9\n",
       "\\item 6.6\n",
       "\\item 5.2\n",
       "\\item 5\n",
       "\\item 5.9\n",
       "\\item 6\n",
       "\\item 6.1\n",
       "\\item 5.6\n",
       "\\item 6.7\n",
       "\\item 5.6\n",
       "\\item 5.8\n",
       "\\item 6.2\n",
       "\\item 5.6\n",
       "\\item 5.9\n",
       "\\item 6.1\n",
       "\\item 6.3\n",
       "\\item 6.1\n",
       "\\item 6.4\n",
       "\\item 6.6\n",
       "\\item 6.8\n",
       "\\item 6.7\n",
       "\\item 6\n",
       "\\item 5.7\n",
       "\\item 5.5\n",
       "\\item 5.5\n",
       "\\item 5.8\n",
       "\\item 6\n",
       "\\item 5.4\n",
       "\\item 6\n",
       "\\item 6.7\n",
       "\\item 6.3\n",
       "\\item 5.6\n",
       "\\item 5.5\n",
       "\\item 5.5\n",
       "\\item 6.1\n",
       "\\item 5.8\n",
       "\\item 5\n",
       "\\item 5.6\n",
       "\\item 5.7\n",
       "\\item 5.7\n",
       "\\item 6.2\n",
       "\\item 5.1\n",
       "\\item 5.7\n",
       "\\item 6.3\n",
       "\\item 5.8\n",
       "\\item 7.1\n",
       "\\item 6.3\n",
       "\\item 6.5\n",
       "\\item 7.6\n",
       "\\item 4.9\n",
       "\\item 7.3\n",
       "\\item 6.7\n",
       "\\item 7.2\n",
       "\\item 6.5\n",
       "\\item 6.4\n",
       "\\item 6.8\n",
       "\\item 5.7\n",
       "\\item 5.8\n",
       "\\item 6.4\n",
       "\\item 6.5\n",
       "\\item 7.7\n",
       "\\item 7.7\n",
       "\\item 6\n",
       "\\item 6.9\n",
       "\\item 5.6\n",
       "\\item 7.7\n",
       "\\item 6.3\n",
       "\\item 6.7\n",
       "\\item 7.2\n",
       "\\item 6.2\n",
       "\\item 6.1\n",
       "\\item 6.4\n",
       "\\item 7.2\n",
       "\\item 7.4\n",
       "\\item 7.9\n",
       "\\item 6.4\n",
       "\\item 6.3\n",
       "\\item 6.1\n",
       "\\item 7.7\n",
       "\\item 6.3\n",
       "\\item 6.4\n",
       "\\item 6\n",
       "\\item 6.9\n",
       "\\item 6.7\n",
       "\\item 6.9\n",
       "\\item 5.8\n",
       "\\item 6.8\n",
       "\\item 6.7\n",
       "\\item 6.7\n",
       "\\item 6.3\n",
       "\\item 6.5\n",
       "\\item 6.2\n",
       "\\item 5.9\n",
       "\\end{enumerate*}\n"
      ],
      "text/markdown": [
       "1. 5.1\n",
       "2. 4.9\n",
       "3. 4.7\n",
       "4. 4.6\n",
       "5. 5\n",
       "6. 5.4\n",
       "7. 4.6\n",
       "8. 5\n",
       "9. 4.4\n",
       "10. 4.9\n",
       "11. 5.4\n",
       "12. 4.8\n",
       "13. 4.8\n",
       "14. 4.3\n",
       "15. 5.8\n",
       "16. 5.7\n",
       "17. 5.4\n",
       "18. 5.1\n",
       "19. 5.7\n",
       "20. 5.1\n",
       "21. 5.4\n",
       "22. 5.1\n",
       "23. 4.6\n",
       "24. 5.1\n",
       "25. 4.8\n",
       "26. 5\n",
       "27. 5\n",
       "28. 5.2\n",
       "29. 5.2\n",
       "30. 4.7\n",
       "31. 4.8\n",
       "32. 5.4\n",
       "33. 5.2\n",
       "34. 5.5\n",
       "35. 4.9\n",
       "36. 5\n",
       "37. 5.5\n",
       "38. 4.9\n",
       "39. 4.4\n",
       "40. 5.1\n",
       "41. 5\n",
       "42. 4.5\n",
       "43. 4.4\n",
       "44. 5\n",
       "45. 5.1\n",
       "46. 4.8\n",
       "47. 5.1\n",
       "48. 4.6\n",
       "49. 5.3\n",
       "50. 5\n",
       "51. 7\n",
       "52. 6.4\n",
       "53. 6.9\n",
       "54. 5.5\n",
       "55. 6.5\n",
       "56. 5.7\n",
       "57. 6.3\n",
       "58. 4.9\n",
       "59. 6.6\n",
       "60. 5.2\n",
       "61. 5\n",
       "62. 5.9\n",
       "63. 6\n",
       "64. 6.1\n",
       "65. 5.6\n",
       "66. 6.7\n",
       "67. 5.6\n",
       "68. 5.8\n",
       "69. 6.2\n",
       "70. 5.6\n",
       "71. 5.9\n",
       "72. 6.1\n",
       "73. 6.3\n",
       "74. 6.1\n",
       "75. 6.4\n",
       "76. 6.6\n",
       "77. 6.8\n",
       "78. 6.7\n",
       "79. 6\n",
       "80. 5.7\n",
       "81. 5.5\n",
       "82. 5.5\n",
       "83. 5.8\n",
       "84. 6\n",
       "85. 5.4\n",
       "86. 6\n",
       "87. 6.7\n",
       "88. 6.3\n",
       "89. 5.6\n",
       "90. 5.5\n",
       "91. 5.5\n",
       "92. 6.1\n",
       "93. 5.8\n",
       "94. 5\n",
       "95. 5.6\n",
       "96. 5.7\n",
       "97. 5.7\n",
       "98. 6.2\n",
       "99. 5.1\n",
       "100. 5.7\n",
       "101. 6.3\n",
       "102. 5.8\n",
       "103. 7.1\n",
       "104. 6.3\n",
       "105. 6.5\n",
       "106. 7.6\n",
       "107. 4.9\n",
       "108. 7.3\n",
       "109. 6.7\n",
       "110. 7.2\n",
       "111. 6.5\n",
       "112. 6.4\n",
       "113. 6.8\n",
       "114. 5.7\n",
       "115. 5.8\n",
       "116. 6.4\n",
       "117. 6.5\n",
       "118. 7.7\n",
       "119. 7.7\n",
       "120. 6\n",
       "121. 6.9\n",
       "122. 5.6\n",
       "123. 7.7\n",
       "124. 6.3\n",
       "125. 6.7\n",
       "126. 7.2\n",
       "127. 6.2\n",
       "128. 6.1\n",
       "129. 6.4\n",
       "130. 7.2\n",
       "131. 7.4\n",
       "132. 7.9\n",
       "133. 6.4\n",
       "134. 6.3\n",
       "135. 6.1\n",
       "136. 7.7\n",
       "137. 6.3\n",
       "138. 6.4\n",
       "139. 6\n",
       "140. 6.9\n",
       "141. 6.7\n",
       "142. 6.9\n",
       "143. 5.8\n",
       "144. 6.8\n",
       "145. 6.7\n",
       "146. 6.7\n",
       "147. 6.3\n",
       "148. 6.5\n",
       "149. 6.2\n",
       "150. 5.9\n",
       "\n",
       "\n"
      ],
      "text/plain": [
       "  [1] 5.1 4.9 4.7 4.6 5.0 5.4 4.6 5.0 4.4 4.9 5.4 4.8 4.8 4.3 5.8 5.7 5.4 5.1\n",
       " [19] 5.7 5.1 5.4 5.1 4.6 5.1 4.8 5.0 5.0 5.2 5.2 4.7 4.8 5.4 5.2 5.5 4.9 5.0\n",
       " [37] 5.5 4.9 4.4 5.1 5.0 4.5 4.4 5.0 5.1 4.8 5.1 4.6 5.3 5.0 7.0 6.4 6.9 5.5\n",
       " [55] 6.5 5.7 6.3 4.9 6.6 5.2 5.0 5.9 6.0 6.1 5.6 6.7 5.6 5.8 6.2 5.6 5.9 6.1\n",
       " [73] 6.3 6.1 6.4 6.6 6.8 6.7 6.0 5.7 5.5 5.5 5.8 6.0 5.4 6.0 6.7 6.3 5.6 5.5\n",
       " [91] 5.5 6.1 5.8 5.0 5.6 5.7 5.7 6.2 5.1 5.7 6.3 5.8 7.1 6.3 6.5 7.6 4.9 7.3\n",
       "[109] 6.7 7.2 6.5 6.4 6.8 5.7 5.8 6.4 6.5 7.7 7.7 6.0 6.9 5.6 7.7 6.3 6.7 7.2\n",
       "[127] 6.2 6.1 6.4 7.2 7.4 7.9 6.4 6.3 6.1 7.7 6.3 6.4 6.0 6.9 6.7 6.9 5.8 6.8\n",
       "[145] 6.7 6.7 6.3 6.5 6.2 5.9"
      ]
     },
     "metadata": {},
     "output_type": "display_data"
    }
   ],
   "source": [
    "Sepal.Length"
   ]
  },
  {
   "cell_type": "markdown",
   "id": "1c337596",
   "metadata": {},
   "source": [
    "### tapply() function\n",
    "**tapply()** computes a measure (mean, median, min, max, etc..) or a function for each factor variable in a vector. It is a very useful function that lets you create a subset of a vector and then apply some functions to each of the subset."
   ]
  },
  {
   "cell_type": "raw",
   "id": "931e6f04",
   "metadata": {},
   "source": [
    "tapply(X, INDEX, FUN = NULL)\n",
    "Arguments:\n",
    "-X: An object, usually a vector\n",
    "-INDEX: A list containing factor\n",
    "-FUN: Function applied to each element of x"
   ]
  },
  {
   "cell_type": "code",
   "execution_count": 13,
   "id": "efefebd8",
   "metadata": {},
   "outputs": [
    {
     "data": {
      "text/html": [
       "<dl class=dl-horizontal>\n",
       "\t<dt>setosa</dt>\n",
       "\t\t<dd>5.006</dd>\n",
       "\t<dt>versicolor</dt>\n",
       "\t\t<dd>5.936</dd>\n",
       "\t<dt>virginica</dt>\n",
       "\t\t<dd>6.588</dd>\n",
       "</dl>\n"
      ],
      "text/latex": [
       "\\begin{description*}\n",
       "\\item[setosa] 5.006\n",
       "\\item[versicolor] 5.936\n",
       "\\item[virginica] 6.588\n",
       "\\end{description*}\n"
      ],
      "text/markdown": [
       "setosa\n",
       ":   5.006versicolor\n",
       ":   5.936virginica\n",
       ":   6.588\n",
       "\n"
      ],
      "text/plain": [
       "    setosa versicolor  virginica \n",
       "     5.006      5.936      6.588 "
      ]
     },
     "metadata": {},
     "output_type": "display_data"
    }
   ],
   "source": [
    "# tapply\n",
    "tapply(Sepal.Length, Species, mean) # mean of Sepal.Length for all 3 Species "
   ]
  },
  {
   "cell_type": "code",
   "execution_count": 14,
   "id": "29444358",
   "metadata": {},
   "outputs": [
    {
     "data": {
      "text/html": [
       "<dl class=dl-horizontal>\n",
       "\t<dt>setosa</dt>\n",
       "\t\t<dd>3.4</dd>\n",
       "\t<dt>versicolor</dt>\n",
       "\t\t<dd>2.8</dd>\n",
       "\t<dt>virginica</dt>\n",
       "\t\t<dd>3</dd>\n",
       "</dl>\n"
      ],
      "text/latex": [
       "\\begin{description*}\n",
       "\\item[setosa] 3.4\n",
       "\\item[versicolor] 2.8\n",
       "\\item[virginica] 3\n",
       "\\end{description*}\n"
      ],
      "text/markdown": [
       "setosa\n",
       ":   3.4versicolor\n",
       ":   2.8virginica\n",
       ":   3\n",
       "\n"
      ],
      "text/plain": [
       "    setosa versicolor  virginica \n",
       "       3.4        2.8        3.0 "
      ]
     },
     "metadata": {},
     "output_type": "display_data"
    },
    {
     "data": {
      "text/html": [
       "5.84333333333333"
      ],
      "text/latex": [
       "5.84333333333333"
      ],
      "text/markdown": [
       "5.84333333333333"
      ],
      "text/plain": [
       "[1] 5.843333"
      ]
     },
     "metadata": {},
     "output_type": "display_data"
    }
   ],
   "source": [
    "tapply(Sepal.Width, Species, median)\n",
    "mean(iris$Sepal.Length)"
   ]
  },
  {
   "cell_type": "code",
   "execution_count": 15,
   "id": "4094c218",
   "metadata": {},
   "outputs": [
    {
     "ename": "ERROR",
     "evalue": "Error in eval(expr, envir, enclos): object 'sepal.Length' not found\n",
     "output_type": "error",
     "traceback": [
      "Error in eval(expr, envir, enclos): object 'sepal.Length' not found\nTraceback:\n"
     ]
    }
   ],
   "source": [
    "detach(iris)\n",
    "sepal.Length"
   ]
  },
  {
   "cell_type": "markdown",
   "id": "95fbcab8",
   "metadata": {},
   "source": [
    "## mtcars"
   ]
  },
  {
   "cell_type": "code",
   "execution_count": 20,
   "id": "89c531bd",
   "metadata": {},
   "outputs": [],
   "source": [
    "data(\"mtcars\")"
   ]
  },
  {
   "cell_type": "code",
   "execution_count": null,
   "id": "c43d89ed",
   "metadata": {},
   "outputs": [],
   "source": [
    "View(mtcars)"
   ]
  },
  {
   "cell_type": "code",
   "execution_count": 21,
   "id": "48e0e370",
   "metadata": {},
   "outputs": [
    {
     "data": {
      "text/html": [
       "<ol class=list-inline>\n",
       "\t<li>21</li>\n",
       "\t<li>21</li>\n",
       "\t<li>22.8</li>\n",
       "\t<li>21.4</li>\n",
       "\t<li>18.7</li>\n",
       "\t<li>18.1</li>\n",
       "\t<li>14.3</li>\n",
       "\t<li>24.4</li>\n",
       "\t<li>22.8</li>\n",
       "\t<li>19.2</li>\n",
       "\t<li>17.8</li>\n",
       "\t<li>16.4</li>\n",
       "\t<li>17.3</li>\n",
       "\t<li>15.2</li>\n",
       "\t<li>10.4</li>\n",
       "\t<li>10.4</li>\n",
       "\t<li>14.7</li>\n",
       "\t<li>32.4</li>\n",
       "\t<li>30.4</li>\n",
       "\t<li>33.9</li>\n",
       "\t<li>21.5</li>\n",
       "\t<li>15.5</li>\n",
       "\t<li>15.2</li>\n",
       "\t<li>13.3</li>\n",
       "\t<li>19.2</li>\n",
       "\t<li>27.3</li>\n",
       "\t<li>26</li>\n",
       "\t<li>30.4</li>\n",
       "\t<li>15.8</li>\n",
       "\t<li>19.7</li>\n",
       "\t<li>15</li>\n",
       "\t<li>21.4</li>\n",
       "</ol>\n"
      ],
      "text/latex": [
       "\\begin{enumerate*}\n",
       "\\item 21\n",
       "\\item 21\n",
       "\\item 22.8\n",
       "\\item 21.4\n",
       "\\item 18.7\n",
       "\\item 18.1\n",
       "\\item 14.3\n",
       "\\item 24.4\n",
       "\\item 22.8\n",
       "\\item 19.2\n",
       "\\item 17.8\n",
       "\\item 16.4\n",
       "\\item 17.3\n",
       "\\item 15.2\n",
       "\\item 10.4\n",
       "\\item 10.4\n",
       "\\item 14.7\n",
       "\\item 32.4\n",
       "\\item 30.4\n",
       "\\item 33.9\n",
       "\\item 21.5\n",
       "\\item 15.5\n",
       "\\item 15.2\n",
       "\\item 13.3\n",
       "\\item 19.2\n",
       "\\item 27.3\n",
       "\\item 26\n",
       "\\item 30.4\n",
       "\\item 15.8\n",
       "\\item 19.7\n",
       "\\item 15\n",
       "\\item 21.4\n",
       "\\end{enumerate*}\n"
      ],
      "text/markdown": [
       "1. 21\n",
       "2. 21\n",
       "3. 22.8\n",
       "4. 21.4\n",
       "5. 18.7\n",
       "6. 18.1\n",
       "7. 14.3\n",
       "8. 24.4\n",
       "9. 22.8\n",
       "10. 19.2\n",
       "11. 17.8\n",
       "12. 16.4\n",
       "13. 17.3\n",
       "14. 15.2\n",
       "15. 10.4\n",
       "16. 10.4\n",
       "17. 14.7\n",
       "18. 32.4\n",
       "19. 30.4\n",
       "20. 33.9\n",
       "21. 21.5\n",
       "22. 15.5\n",
       "23. 15.2\n",
       "24. 13.3\n",
       "25. 19.2\n",
       "26. 27.3\n",
       "27. 26\n",
       "28. 30.4\n",
       "29. 15.8\n",
       "30. 19.7\n",
       "31. 15\n",
       "32. 21.4\n",
       "\n",
       "\n"
      ],
      "text/plain": [
       " [1] 21.0 21.0 22.8 21.4 18.7 18.1 14.3 24.4 22.8 19.2 17.8 16.4 17.3 15.2 10.4\n",
       "[16] 10.4 14.7 32.4 30.4 33.9 21.5 15.5 15.2 13.3 19.2 27.3 26.0 30.4 15.8 19.7\n",
       "[31] 15.0 21.4"
      ]
     },
     "metadata": {},
     "output_type": "display_data"
    }
   ],
   "source": [
    "mtcars$mpg"
   ]
  },
  {
   "cell_type": "code",
   "execution_count": 22,
   "id": "c63d515e",
   "metadata": {},
   "outputs": [
    {
     "data": {
      "text/html": [
       "32"
      ],
      "text/latex": [
       "32"
      ],
      "text/markdown": [
       "32"
      ],
      "text/plain": [
       "[1] 32"
      ]
     },
     "metadata": {},
     "output_type": "display_data"
    }
   ],
   "source": [
    "nrow(mtcars) # no.of rows in mtcars"
   ]
  },
  {
   "cell_type": "code",
   "execution_count": 23,
   "id": "7f19bd62",
   "metadata": {},
   "outputs": [
    {
     "data": {
      "text/html": [
       "<ol class=list-inline>\n",
       "\t<li>'Mazda RX4'</li>\n",
       "\t<li>'Mazda RX4 Wag'</li>\n",
       "\t<li>'Datsun 710'</li>\n",
       "\t<li>'Hornet 4 Drive'</li>\n",
       "\t<li>'Hornet Sportabout'</li>\n",
       "\t<li>'Valiant'</li>\n",
       "\t<li>'Duster 360'</li>\n",
       "\t<li>'Merc 240D'</li>\n",
       "\t<li>'Merc 230'</li>\n",
       "\t<li>'Merc 280'</li>\n",
       "\t<li>'Merc 280C'</li>\n",
       "\t<li>'Merc 450SE'</li>\n",
       "\t<li>'Merc 450SL'</li>\n",
       "\t<li>'Merc 450SLC'</li>\n",
       "\t<li>'Cadillac Fleetwood'</li>\n",
       "\t<li>'Lincoln Continental'</li>\n",
       "\t<li>'Chrysler Imperial'</li>\n",
       "\t<li>'Fiat 128'</li>\n",
       "\t<li>'Honda Civic'</li>\n",
       "\t<li>'Toyota Corolla'</li>\n",
       "\t<li>'Toyota Corona'</li>\n",
       "\t<li>'Dodge Challenger'</li>\n",
       "\t<li>'AMC Javelin'</li>\n",
       "\t<li>'Camaro Z28'</li>\n",
       "\t<li>'Pontiac Firebird'</li>\n",
       "\t<li>'Fiat X1-9'</li>\n",
       "\t<li>'Porsche 914-2'</li>\n",
       "\t<li>'Lotus Europa'</li>\n",
       "\t<li>'Ford Pantera L'</li>\n",
       "\t<li>'Ferrari Dino'</li>\n",
       "\t<li>'Maserati Bora'</li>\n",
       "\t<li>'Volvo 142E'</li>\n",
       "</ol>\n"
      ],
      "text/latex": [
       "\\begin{enumerate*}\n",
       "\\item 'Mazda RX4'\n",
       "\\item 'Mazda RX4 Wag'\n",
       "\\item 'Datsun 710'\n",
       "\\item 'Hornet 4 Drive'\n",
       "\\item 'Hornet Sportabout'\n",
       "\\item 'Valiant'\n",
       "\\item 'Duster 360'\n",
       "\\item 'Merc 240D'\n",
       "\\item 'Merc 230'\n",
       "\\item 'Merc 280'\n",
       "\\item 'Merc 280C'\n",
       "\\item 'Merc 450SE'\n",
       "\\item 'Merc 450SL'\n",
       "\\item 'Merc 450SLC'\n",
       "\\item 'Cadillac Fleetwood'\n",
       "\\item 'Lincoln Continental'\n",
       "\\item 'Chrysler Imperial'\n",
       "\\item 'Fiat 128'\n",
       "\\item 'Honda Civic'\n",
       "\\item 'Toyota Corolla'\n",
       "\\item 'Toyota Corona'\n",
       "\\item 'Dodge Challenger'\n",
       "\\item 'AMC Javelin'\n",
       "\\item 'Camaro Z28'\n",
       "\\item 'Pontiac Firebird'\n",
       "\\item 'Fiat X1-9'\n",
       "\\item 'Porsche 914-2'\n",
       "\\item 'Lotus Europa'\n",
       "\\item 'Ford Pantera L'\n",
       "\\item 'Ferrari Dino'\n",
       "\\item 'Maserati Bora'\n",
       "\\item 'Volvo 142E'\n",
       "\\end{enumerate*}\n"
      ],
      "text/markdown": [
       "1. 'Mazda RX4'\n",
       "2. 'Mazda RX4 Wag'\n",
       "3. 'Datsun 710'\n",
       "4. 'Hornet 4 Drive'\n",
       "5. 'Hornet Sportabout'\n",
       "6. 'Valiant'\n",
       "7. 'Duster 360'\n",
       "8. 'Merc 240D'\n",
       "9. 'Merc 230'\n",
       "10. 'Merc 280'\n",
       "11. 'Merc 280C'\n",
       "12. 'Merc 450SE'\n",
       "13. 'Merc 450SL'\n",
       "14. 'Merc 450SLC'\n",
       "15. 'Cadillac Fleetwood'\n",
       "16. 'Lincoln Continental'\n",
       "17. 'Chrysler Imperial'\n",
       "18. 'Fiat 128'\n",
       "19. 'Honda Civic'\n",
       "20. 'Toyota Corolla'\n",
       "21. 'Toyota Corona'\n",
       "22. 'Dodge Challenger'\n",
       "23. 'AMC Javelin'\n",
       "24. 'Camaro Z28'\n",
       "25. 'Pontiac Firebird'\n",
       "26. 'Fiat X1-9'\n",
       "27. 'Porsche 914-2'\n",
       "28. 'Lotus Europa'\n",
       "29. 'Ford Pantera L'\n",
       "30. 'Ferrari Dino'\n",
       "31. 'Maserati Bora'\n",
       "32. 'Volvo 142E'\n",
       "\n",
       "\n"
      ],
      "text/plain": [
       " [1] \"Mazda RX4\"           \"Mazda RX4 Wag\"       \"Datsun 710\"         \n",
       " [4] \"Hornet 4 Drive\"      \"Hornet Sportabout\"   \"Valiant\"            \n",
       " [7] \"Duster 360\"          \"Merc 240D\"           \"Merc 230\"           \n",
       "[10] \"Merc 280\"            \"Merc 280C\"           \"Merc 450SE\"         \n",
       "[13] \"Merc 450SL\"          \"Merc 450SLC\"         \"Cadillac Fleetwood\" \n",
       "[16] \"Lincoln Continental\" \"Chrysler Imperial\"   \"Fiat 128\"           \n",
       "[19] \"Honda Civic\"         \"Toyota Corolla\"      \"Toyota Corona\"      \n",
       "[22] \"Dodge Challenger\"    \"AMC Javelin\"         \"Camaro Z28\"         \n",
       "[25] \"Pontiac Firebird\"    \"Fiat X1-9\"           \"Porsche 914-2\"      \n",
       "[28] \"Lotus Europa\"        \"Ford Pantera L\"      \"Ferrari Dino\"       \n",
       "[31] \"Maserati Bora\"       \"Volvo 142E\"         "
      ]
     },
     "metadata": {},
     "output_type": "display_data"
    }
   ],
   "source": [
    "row.names(mtcars) # row names"
   ]
  },
  {
   "cell_type": "code",
   "execution_count": 24,
   "id": "6c884a4c",
   "metadata": {},
   "outputs": [
    {
     "data": {
      "text/html": [
       "11"
      ],
      "text/latex": [
       "11"
      ],
      "text/markdown": [
       "11"
      ],
      "text/plain": [
       "[1] 11"
      ]
     },
     "metadata": {},
     "output_type": "display_data"
    }
   ],
   "source": [
    "ncol(mtcars) # number of columns "
   ]
  },
  {
   "cell_type": "code",
   "execution_count": 25,
   "id": "e122c677",
   "metadata": {},
   "outputs": [
    {
     "data": {
      "text/html": [
       "<ol class=list-inline>\n",
       "\t<li>'mpg'</li>\n",
       "\t<li>'cyl'</li>\n",
       "\t<li>'disp'</li>\n",
       "\t<li>'hp'</li>\n",
       "\t<li>'drat'</li>\n",
       "\t<li>'wt'</li>\n",
       "\t<li>'qsec'</li>\n",
       "\t<li>'vs'</li>\n",
       "\t<li>'am'</li>\n",
       "\t<li>'gear'</li>\n",
       "\t<li>'carb'</li>\n",
       "</ol>\n"
      ],
      "text/latex": [
       "\\begin{enumerate*}\n",
       "\\item 'mpg'\n",
       "\\item 'cyl'\n",
       "\\item 'disp'\n",
       "\\item 'hp'\n",
       "\\item 'drat'\n",
       "\\item 'wt'\n",
       "\\item 'qsec'\n",
       "\\item 'vs'\n",
       "\\item 'am'\n",
       "\\item 'gear'\n",
       "\\item 'carb'\n",
       "\\end{enumerate*}\n"
      ],
      "text/markdown": [
       "1. 'mpg'\n",
       "2. 'cyl'\n",
       "3. 'disp'\n",
       "4. 'hp'\n",
       "5. 'drat'\n",
       "6. 'wt'\n",
       "7. 'qsec'\n",
       "8. 'vs'\n",
       "9. 'am'\n",
       "10. 'gear'\n",
       "11. 'carb'\n",
       "\n",
       "\n"
      ],
      "text/plain": [
       " [1] \"mpg\"  \"cyl\"  \"disp\" \"hp\"   \"drat\" \"wt\"   \"qsec\" \"vs\"   \"am\"   \"gear\"\n",
       "[11] \"carb\""
      ]
     },
     "metadata": {},
     "output_type": "display_data"
    }
   ],
   "source": [
    "colnames(mtcars) # column names in mtcars"
   ]
  },
  {
   "cell_type": "code",
   "execution_count": 26,
   "id": "3cd2b880",
   "metadata": {},
   "outputs": [
    {
     "data": {
      "text/html": [
       "<ol class=list-inline>\n",
       "\t<li>'mpg'</li>\n",
       "\t<li>'cyl'</li>\n",
       "\t<li>'disp'</li>\n",
       "\t<li>'hp'</li>\n",
       "\t<li>'drat'</li>\n",
       "\t<li>'wt'</li>\n",
       "\t<li>'qsec'</li>\n",
       "\t<li>'vs'</li>\n",
       "\t<li>'am'</li>\n",
       "\t<li>'gear'</li>\n",
       "\t<li>'carb'</li>\n",
       "</ol>\n"
      ],
      "text/latex": [
       "\\begin{enumerate*}\n",
       "\\item 'mpg'\n",
       "\\item 'cyl'\n",
       "\\item 'disp'\n",
       "\\item 'hp'\n",
       "\\item 'drat'\n",
       "\\item 'wt'\n",
       "\\item 'qsec'\n",
       "\\item 'vs'\n",
       "\\item 'am'\n",
       "\\item 'gear'\n",
       "\\item 'carb'\n",
       "\\end{enumerate*}\n"
      ],
      "text/markdown": [
       "1. 'mpg'\n",
       "2. 'cyl'\n",
       "3. 'disp'\n",
       "4. 'hp'\n",
       "5. 'drat'\n",
       "6. 'wt'\n",
       "7. 'qsec'\n",
       "8. 'vs'\n",
       "9. 'am'\n",
       "10. 'gear'\n",
       "11. 'carb'\n",
       "\n",
       "\n"
      ],
      "text/plain": [
       " [1] \"mpg\"  \"cyl\"  \"disp\" \"hp\"   \"drat\" \"wt\"   \"qsec\" \"vs\"   \"am\"   \"gear\"\n",
       "[11] \"carb\""
      ]
     },
     "metadata": {},
     "output_type": "display_data"
    }
   ],
   "source": [
    "names(mtcars) "
   ]
  },
  {
   "cell_type": "code",
   "execution_count": 27,
   "id": "8c2b50fe",
   "metadata": {},
   "outputs": [
    {
     "data": {
      "text/html": [
       "<ol class=list-inline>\n",
       "\t<li>32</li>\n",
       "\t<li>11</li>\n",
       "</ol>\n"
      ],
      "text/latex": [
       "\\begin{enumerate*}\n",
       "\\item 32\n",
       "\\item 11\n",
       "\\end{enumerate*}\n"
      ],
      "text/markdown": [
       "1. 32\n",
       "2. 11\n",
       "\n",
       "\n"
      ],
      "text/plain": [
       "[1] 32 11"
      ]
     },
     "metadata": {},
     "output_type": "display_data"
    }
   ],
   "source": [
    "dim(mtcars) # dimensions ( rows X columns )"
   ]
  },
  {
   "cell_type": "code",
   "execution_count": 28,
   "id": "a4d68c69",
   "metadata": {},
   "outputs": [
    {
     "data": {
      "text/html": [
       "<ol>\n",
       "\t<li><ol class=list-inline>\n",
       "\t<li>'Mazda RX4'</li>\n",
       "\t<li>'Mazda RX4 Wag'</li>\n",
       "\t<li>'Datsun 710'</li>\n",
       "\t<li>'Hornet 4 Drive'</li>\n",
       "\t<li>'Hornet Sportabout'</li>\n",
       "\t<li>'Valiant'</li>\n",
       "\t<li>'Duster 360'</li>\n",
       "\t<li>'Merc 240D'</li>\n",
       "\t<li>'Merc 230'</li>\n",
       "\t<li>'Merc 280'</li>\n",
       "\t<li>'Merc 280C'</li>\n",
       "\t<li>'Merc 450SE'</li>\n",
       "\t<li>'Merc 450SL'</li>\n",
       "\t<li>'Merc 450SLC'</li>\n",
       "\t<li>'Cadillac Fleetwood'</li>\n",
       "\t<li>'Lincoln Continental'</li>\n",
       "\t<li>'Chrysler Imperial'</li>\n",
       "\t<li>'Fiat 128'</li>\n",
       "\t<li>'Honda Civic'</li>\n",
       "\t<li>'Toyota Corolla'</li>\n",
       "\t<li>'Toyota Corona'</li>\n",
       "\t<li>'Dodge Challenger'</li>\n",
       "\t<li>'AMC Javelin'</li>\n",
       "\t<li>'Camaro Z28'</li>\n",
       "\t<li>'Pontiac Firebird'</li>\n",
       "\t<li>'Fiat X1-9'</li>\n",
       "\t<li>'Porsche 914-2'</li>\n",
       "\t<li>'Lotus Europa'</li>\n",
       "\t<li>'Ford Pantera L'</li>\n",
       "\t<li>'Ferrari Dino'</li>\n",
       "\t<li>'Maserati Bora'</li>\n",
       "\t<li>'Volvo 142E'</li>\n",
       "</ol>\n",
       "</li>\n",
       "\t<li><ol class=list-inline>\n",
       "\t<li>'mpg'</li>\n",
       "\t<li>'cyl'</li>\n",
       "\t<li>'disp'</li>\n",
       "\t<li>'hp'</li>\n",
       "\t<li>'drat'</li>\n",
       "\t<li>'wt'</li>\n",
       "\t<li>'qsec'</li>\n",
       "\t<li>'vs'</li>\n",
       "\t<li>'am'</li>\n",
       "\t<li>'gear'</li>\n",
       "\t<li>'carb'</li>\n",
       "</ol>\n",
       "</li>\n",
       "</ol>\n"
      ],
      "text/latex": [
       "\\begin{enumerate}\n",
       "\\item \\begin{enumerate*}\n",
       "\\item 'Mazda RX4'\n",
       "\\item 'Mazda RX4 Wag'\n",
       "\\item 'Datsun 710'\n",
       "\\item 'Hornet 4 Drive'\n",
       "\\item 'Hornet Sportabout'\n",
       "\\item 'Valiant'\n",
       "\\item 'Duster 360'\n",
       "\\item 'Merc 240D'\n",
       "\\item 'Merc 230'\n",
       "\\item 'Merc 280'\n",
       "\\item 'Merc 280C'\n",
       "\\item 'Merc 450SE'\n",
       "\\item 'Merc 450SL'\n",
       "\\item 'Merc 450SLC'\n",
       "\\item 'Cadillac Fleetwood'\n",
       "\\item 'Lincoln Continental'\n",
       "\\item 'Chrysler Imperial'\n",
       "\\item 'Fiat 128'\n",
       "\\item 'Honda Civic'\n",
       "\\item 'Toyota Corolla'\n",
       "\\item 'Toyota Corona'\n",
       "\\item 'Dodge Challenger'\n",
       "\\item 'AMC Javelin'\n",
       "\\item 'Camaro Z28'\n",
       "\\item 'Pontiac Firebird'\n",
       "\\item 'Fiat X1-9'\n",
       "\\item 'Porsche 914-2'\n",
       "\\item 'Lotus Europa'\n",
       "\\item 'Ford Pantera L'\n",
       "\\item 'Ferrari Dino'\n",
       "\\item 'Maserati Bora'\n",
       "\\item 'Volvo 142E'\n",
       "\\end{enumerate*}\n",
       "\n",
       "\\item \\begin{enumerate*}\n",
       "\\item 'mpg'\n",
       "\\item 'cyl'\n",
       "\\item 'disp'\n",
       "\\item 'hp'\n",
       "\\item 'drat'\n",
       "\\item 'wt'\n",
       "\\item 'qsec'\n",
       "\\item 'vs'\n",
       "\\item 'am'\n",
       "\\item 'gear'\n",
       "\\item 'carb'\n",
       "\\end{enumerate*}\n",
       "\n",
       "\\end{enumerate}\n"
      ],
      "text/markdown": [
       "1. 1. 'Mazda RX4'\n",
       "2. 'Mazda RX4 Wag'\n",
       "3. 'Datsun 710'\n",
       "4. 'Hornet 4 Drive'\n",
       "5. 'Hornet Sportabout'\n",
       "6. 'Valiant'\n",
       "7. 'Duster 360'\n",
       "8. 'Merc 240D'\n",
       "9. 'Merc 230'\n",
       "10. 'Merc 280'\n",
       "11. 'Merc 280C'\n",
       "12. 'Merc 450SE'\n",
       "13. 'Merc 450SL'\n",
       "14. 'Merc 450SLC'\n",
       "15. 'Cadillac Fleetwood'\n",
       "16. 'Lincoln Continental'\n",
       "17. 'Chrysler Imperial'\n",
       "18. 'Fiat 128'\n",
       "19. 'Honda Civic'\n",
       "20. 'Toyota Corolla'\n",
       "21. 'Toyota Corona'\n",
       "22. 'Dodge Challenger'\n",
       "23. 'AMC Javelin'\n",
       "24. 'Camaro Z28'\n",
       "25. 'Pontiac Firebird'\n",
       "26. 'Fiat X1-9'\n",
       "27. 'Porsche 914-2'\n",
       "28. 'Lotus Europa'\n",
       "29. 'Ford Pantera L'\n",
       "30. 'Ferrari Dino'\n",
       "31. 'Maserati Bora'\n",
       "32. 'Volvo 142E'\n",
       "\n",
       "\n",
       "\n",
       "2. 1. 'mpg'\n",
       "2. 'cyl'\n",
       "3. 'disp'\n",
       "4. 'hp'\n",
       "5. 'drat'\n",
       "6. 'wt'\n",
       "7. 'qsec'\n",
       "8. 'vs'\n",
       "9. 'am'\n",
       "10. 'gear'\n",
       "11. 'carb'\n",
       "\n",
       "\n",
       "\n",
       "\n",
       "\n"
      ],
      "text/plain": [
       "[[1]]\n",
       " [1] \"Mazda RX4\"           \"Mazda RX4 Wag\"       \"Datsun 710\"         \n",
       " [4] \"Hornet 4 Drive\"      \"Hornet Sportabout\"   \"Valiant\"            \n",
       " [7] \"Duster 360\"          \"Merc 240D\"           \"Merc 230\"           \n",
       "[10] \"Merc 280\"            \"Merc 280C\"           \"Merc 450SE\"         \n",
       "[13] \"Merc 450SL\"          \"Merc 450SLC\"         \"Cadillac Fleetwood\" \n",
       "[16] \"Lincoln Continental\" \"Chrysler Imperial\"   \"Fiat 128\"           \n",
       "[19] \"Honda Civic\"         \"Toyota Corolla\"      \"Toyota Corona\"      \n",
       "[22] \"Dodge Challenger\"    \"AMC Javelin\"         \"Camaro Z28\"         \n",
       "[25] \"Pontiac Firebird\"    \"Fiat X1-9\"           \"Porsche 914-2\"      \n",
       "[28] \"Lotus Europa\"        \"Ford Pantera L\"      \"Ferrari Dino\"       \n",
       "[31] \"Maserati Bora\"       \"Volvo 142E\"         \n",
       "\n",
       "[[2]]\n",
       " [1] \"mpg\"  \"cyl\"  \"disp\" \"hp\"   \"drat\" \"wt\"   \"qsec\" \"vs\"   \"am\"   \"gear\"\n",
       "[11] \"carb\"\n"
      ]
     },
     "metadata": {},
     "output_type": "display_data"
    }
   ],
   "source": [
    "dimnames(mtcars) # Dimension names ( row names and column names )"
   ]
  },
  {
   "cell_type": "code",
   "execution_count": 29,
   "id": "576d32a3",
   "metadata": {},
   "outputs": [
    {
     "data": {
      "text/html": [
       "<table>\n",
       "<thead><tr><th></th><th scope=col>mpg</th><th scope=col>cyl</th><th scope=col>disp</th><th scope=col>hp</th><th scope=col>drat</th><th scope=col>wt</th><th scope=col>qsec</th><th scope=col>vs</th><th scope=col>am</th><th scope=col>gear</th><th scope=col>carb</th></tr></thead>\n",
       "<tbody>\n",
       "\t<tr><th scope=row>Mazda RX4</th><td>21.0 </td><td>6    </td><td>160.0</td><td>110  </td><td>3.90 </td><td>2.620</td><td>16.46</td><td>0    </td><td>1    </td><td>4    </td><td>4    </td></tr>\n",
       "\t<tr><th scope=row>Mazda RX4 Wag</th><td>21.0 </td><td>6    </td><td>160.0</td><td>110  </td><td>3.90 </td><td>2.875</td><td>17.02</td><td>0    </td><td>1    </td><td>4    </td><td>4    </td></tr>\n",
       "\t<tr><th scope=row>Datsun 710</th><td>22.8 </td><td>4    </td><td>108.0</td><td> 93  </td><td>3.85 </td><td>2.320</td><td>18.61</td><td>1    </td><td>1    </td><td>4    </td><td>1    </td></tr>\n",
       "\t<tr><th scope=row>Hornet 4 Drive</th><td>21.4 </td><td>6    </td><td>258.0</td><td>110  </td><td>3.08 </td><td>3.215</td><td>19.44</td><td>1    </td><td>0    </td><td>3    </td><td>1    </td></tr>\n",
       "\t<tr><th scope=row>Hornet Sportabout</th><td>18.7 </td><td>8    </td><td>360.0</td><td>175  </td><td>3.15 </td><td>3.440</td><td>17.02</td><td>0    </td><td>0    </td><td>3    </td><td>2    </td></tr>\n",
       "\t<tr><th scope=row>Valiant</th><td>18.1 </td><td>6    </td><td>225.0</td><td>105  </td><td>2.76 </td><td>3.460</td><td>20.22</td><td>1    </td><td>0    </td><td>3    </td><td>1    </td></tr>\n",
       "\t<tr><th scope=row>Duster 360</th><td>14.3 </td><td>8    </td><td>360.0</td><td>245  </td><td>3.21 </td><td>3.570</td><td>15.84</td><td>0    </td><td>0    </td><td>3    </td><td>4    </td></tr>\n",
       "\t<tr><th scope=row>Merc 240D</th><td>24.4 </td><td>4    </td><td>146.7</td><td> 62  </td><td>3.69 </td><td>3.190</td><td>20.00</td><td>1    </td><td>0    </td><td>4    </td><td>2    </td></tr>\n",
       "\t<tr><th scope=row>Merc 230</th><td>22.8 </td><td>4    </td><td>140.8</td><td> 95  </td><td>3.92 </td><td>3.150</td><td>22.90</td><td>1    </td><td>0    </td><td>4    </td><td>2    </td></tr>\n",
       "\t<tr><th scope=row>Merc 280</th><td>19.2 </td><td>6    </td><td>167.6</td><td>123  </td><td>3.92 </td><td>3.440</td><td>18.30</td><td>1    </td><td>0    </td><td>4    </td><td>4    </td></tr>\n",
       "</tbody>\n",
       "</table>\n"
      ],
      "text/latex": [
       "\\begin{tabular}{r|lllllllllll}\n",
       "  & mpg & cyl & disp & hp & drat & wt & qsec & vs & am & gear & carb\\\\\n",
       "\\hline\n",
       "\tMazda RX4 & 21.0  & 6     & 160.0 & 110   & 3.90  & 2.620 & 16.46 & 0     & 1     & 4     & 4    \\\\\n",
       "\tMazda RX4 Wag & 21.0  & 6     & 160.0 & 110   & 3.90  & 2.875 & 17.02 & 0     & 1     & 4     & 4    \\\\\n",
       "\tDatsun 710 & 22.8  & 4     & 108.0 &  93   & 3.85  & 2.320 & 18.61 & 1     & 1     & 4     & 1    \\\\\n",
       "\tHornet 4 Drive & 21.4  & 6     & 258.0 & 110   & 3.08  & 3.215 & 19.44 & 1     & 0     & 3     & 1    \\\\\n",
       "\tHornet Sportabout & 18.7  & 8     & 360.0 & 175   & 3.15  & 3.440 & 17.02 & 0     & 0     & 3     & 2    \\\\\n",
       "\tValiant & 18.1  & 6     & 225.0 & 105   & 2.76  & 3.460 & 20.22 & 1     & 0     & 3     & 1    \\\\\n",
       "\tDuster 360 & 14.3  & 8     & 360.0 & 245   & 3.21  & 3.570 & 15.84 & 0     & 0     & 3     & 4    \\\\\n",
       "\tMerc 240D & 24.4  & 4     & 146.7 &  62   & 3.69  & 3.190 & 20.00 & 1     & 0     & 4     & 2    \\\\\n",
       "\tMerc 230 & 22.8  & 4     & 140.8 &  95   & 3.92  & 3.150 & 22.90 & 1     & 0     & 4     & 2    \\\\\n",
       "\tMerc 280 & 19.2  & 6     & 167.6 & 123   & 3.92  & 3.440 & 18.30 & 1     & 0     & 4     & 4    \\\\\n",
       "\\end{tabular}\n"
      ],
      "text/markdown": [
       "\n",
       "| <!--/--> | mpg | cyl | disp | hp | drat | wt | qsec | vs | am | gear | carb |\n",
       "|---|---|---|---|---|---|---|---|---|---|---|---|\n",
       "| Mazda RX4 | 21.0  | 6     | 160.0 | 110   | 3.90  | 2.620 | 16.46 | 0     | 1     | 4     | 4     |\n",
       "| Mazda RX4 Wag | 21.0  | 6     | 160.0 | 110   | 3.90  | 2.875 | 17.02 | 0     | 1     | 4     | 4     |\n",
       "| Datsun 710 | 22.8  | 4     | 108.0 |  93   | 3.85  | 2.320 | 18.61 | 1     | 1     | 4     | 1     |\n",
       "| Hornet 4 Drive | 21.4  | 6     | 258.0 | 110   | 3.08  | 3.215 | 19.44 | 1     | 0     | 3     | 1     |\n",
       "| Hornet Sportabout | 18.7  | 8     | 360.0 | 175   | 3.15  | 3.440 | 17.02 | 0     | 0     | 3     | 2     |\n",
       "| Valiant | 18.1  | 6     | 225.0 | 105   | 2.76  | 3.460 | 20.22 | 1     | 0     | 3     | 1     |\n",
       "| Duster 360 | 14.3  | 8     | 360.0 | 245   | 3.21  | 3.570 | 15.84 | 0     | 0     | 3     | 4     |\n",
       "| Merc 240D | 24.4  | 4     | 146.7 |  62   | 3.69  | 3.190 | 20.00 | 1     | 0     | 4     | 2     |\n",
       "| Merc 230 | 22.8  | 4     | 140.8 |  95   | 3.92  | 3.150 | 22.90 | 1     | 0     | 4     | 2     |\n",
       "| Merc 280 | 19.2  | 6     | 167.6 | 123   | 3.92  | 3.440 | 18.30 | 1     | 0     | 4     | 4     |\n",
       "\n"
      ],
      "text/plain": [
       "                  mpg  cyl disp  hp  drat wt    qsec  vs am gear carb\n",
       "Mazda RX4         21.0 6   160.0 110 3.90 2.620 16.46 0  1  4    4   \n",
       "Mazda RX4 Wag     21.0 6   160.0 110 3.90 2.875 17.02 0  1  4    4   \n",
       "Datsun 710        22.8 4   108.0  93 3.85 2.320 18.61 1  1  4    1   \n",
       "Hornet 4 Drive    21.4 6   258.0 110 3.08 3.215 19.44 1  0  3    1   \n",
       "Hornet Sportabout 18.7 8   360.0 175 3.15 3.440 17.02 0  0  3    2   \n",
       "Valiant           18.1 6   225.0 105 2.76 3.460 20.22 1  0  3    1   \n",
       "Duster 360        14.3 8   360.0 245 3.21 3.570 15.84 0  0  3    4   \n",
       "Merc 240D         24.4 4   146.7  62 3.69 3.190 20.00 1  0  4    2   \n",
       "Merc 230          22.8 4   140.8  95 3.92 3.150 22.90 1  0  4    2   \n",
       "Merc 280          19.2 6   167.6 123 3.92 3.440 18.30 1  0  4    4   "
      ]
     },
     "metadata": {},
     "output_type": "display_data"
    }
   ],
   "source": [
    "head(mtcars,10) # top 10 observations "
   ]
  },
  {
   "cell_type": "code",
   "execution_count": 30,
   "id": "0d76908e",
   "metadata": {},
   "outputs": [
    {
     "data": {
      "text/html": [
       "<table>\n",
       "<thead><tr><th></th><th scope=col>mpg</th><th scope=col>cyl</th><th scope=col>disp</th><th scope=col>hp</th><th scope=col>drat</th><th scope=col>wt</th><th scope=col>qsec</th><th scope=col>vs</th><th scope=col>am</th><th scope=col>gear</th><th scope=col>carb</th></tr></thead>\n",
       "<tbody>\n",
       "\t<tr><th scope=row>Porsche 914-2</th><td>26.0 </td><td>4    </td><td>120.3</td><td> 91  </td><td>4.43 </td><td>2.140</td><td>16.7 </td><td>0    </td><td>1    </td><td>5    </td><td>2    </td></tr>\n",
       "\t<tr><th scope=row>Lotus Europa</th><td>30.4 </td><td>4    </td><td> 95.1</td><td>113  </td><td>3.77 </td><td>1.513</td><td>16.9 </td><td>1    </td><td>1    </td><td>5    </td><td>2    </td></tr>\n",
       "\t<tr><th scope=row>Ford Pantera L</th><td>15.8 </td><td>8    </td><td>351.0</td><td>264  </td><td>4.22 </td><td>3.170</td><td>14.5 </td><td>0    </td><td>1    </td><td>5    </td><td>4    </td></tr>\n",
       "\t<tr><th scope=row>Ferrari Dino</th><td>19.7 </td><td>6    </td><td>145.0</td><td>175  </td><td>3.62 </td><td>2.770</td><td>15.5 </td><td>0    </td><td>1    </td><td>5    </td><td>6    </td></tr>\n",
       "\t<tr><th scope=row>Maserati Bora</th><td>15.0 </td><td>8    </td><td>301.0</td><td>335  </td><td>3.54 </td><td>3.570</td><td>14.6 </td><td>0    </td><td>1    </td><td>5    </td><td>8    </td></tr>\n",
       "\t<tr><th scope=row>Volvo 142E</th><td>21.4 </td><td>4    </td><td>121.0</td><td>109  </td><td>4.11 </td><td>2.780</td><td>18.6 </td><td>1    </td><td>1    </td><td>4    </td><td>2    </td></tr>\n",
       "</tbody>\n",
       "</table>\n"
      ],
      "text/latex": [
       "\\begin{tabular}{r|lllllllllll}\n",
       "  & mpg & cyl & disp & hp & drat & wt & qsec & vs & am & gear & carb\\\\\n",
       "\\hline\n",
       "\tPorsche 914-2 & 26.0  & 4     & 120.3 &  91   & 4.43  & 2.140 & 16.7  & 0     & 1     & 5     & 2    \\\\\n",
       "\tLotus Europa & 30.4  & 4     &  95.1 & 113   & 3.77  & 1.513 & 16.9  & 1     & 1     & 5     & 2    \\\\\n",
       "\tFord Pantera L & 15.8  & 8     & 351.0 & 264   & 4.22  & 3.170 & 14.5  & 0     & 1     & 5     & 4    \\\\\n",
       "\tFerrari Dino & 19.7  & 6     & 145.0 & 175   & 3.62  & 2.770 & 15.5  & 0     & 1     & 5     & 6    \\\\\n",
       "\tMaserati Bora & 15.0  & 8     & 301.0 & 335   & 3.54  & 3.570 & 14.6  & 0     & 1     & 5     & 8    \\\\\n",
       "\tVolvo 142E & 21.4  & 4     & 121.0 & 109   & 4.11  & 2.780 & 18.6  & 1     & 1     & 4     & 2    \\\\\n",
       "\\end{tabular}\n"
      ],
      "text/markdown": [
       "\n",
       "| <!--/--> | mpg | cyl | disp | hp | drat | wt | qsec | vs | am | gear | carb |\n",
       "|---|---|---|---|---|---|---|---|---|---|---|---|\n",
       "| Porsche 914-2 | 26.0  | 4     | 120.3 |  91   | 4.43  | 2.140 | 16.7  | 0     | 1     | 5     | 2     |\n",
       "| Lotus Europa | 30.4  | 4     |  95.1 | 113   | 3.77  | 1.513 | 16.9  | 1     | 1     | 5     | 2     |\n",
       "| Ford Pantera L | 15.8  | 8     | 351.0 | 264   | 4.22  | 3.170 | 14.5  | 0     | 1     | 5     | 4     |\n",
       "| Ferrari Dino | 19.7  | 6     | 145.0 | 175   | 3.62  | 2.770 | 15.5  | 0     | 1     | 5     | 6     |\n",
       "| Maserati Bora | 15.0  | 8     | 301.0 | 335   | 3.54  | 3.570 | 14.6  | 0     | 1     | 5     | 8     |\n",
       "| Volvo 142E | 21.4  | 4     | 121.0 | 109   | 4.11  | 2.780 | 18.6  | 1     | 1     | 4     | 2     |\n",
       "\n"
      ],
      "text/plain": [
       "               mpg  cyl disp  hp  drat wt    qsec vs am gear carb\n",
       "Porsche 914-2  26.0 4   120.3  91 4.43 2.140 16.7 0  1  5    2   \n",
       "Lotus Europa   30.4 4    95.1 113 3.77 1.513 16.9 1  1  5    2   \n",
       "Ford Pantera L 15.8 8   351.0 264 4.22 3.170 14.5 0  1  5    4   \n",
       "Ferrari Dino   19.7 6   145.0 175 3.62 2.770 15.5 0  1  5    6   \n",
       "Maserati Bora  15.0 8   301.0 335 3.54 3.570 14.6 0  1  5    8   \n",
       "Volvo 142E     21.4 4   121.0 109 4.11 2.780 18.6 1  1  4    2   "
      ]
     },
     "metadata": {},
     "output_type": "display_data"
    }
   ],
   "source": [
    "tail(mtcars) # bottom 10 observations"
   ]
  },
  {
   "cell_type": "code",
   "execution_count": 31,
   "id": "97638efc",
   "metadata": {},
   "outputs": [
    {
     "data": {
      "text/html": [
       "10.4"
      ],
      "text/latex": [
       "10.4"
      ],
      "text/markdown": [
       "10.4"
      ],
      "text/plain": [
       "[1] 10.4"
      ]
     },
     "metadata": {},
     "output_type": "display_data"
    }
   ],
   "source": [
    "min(mtcars$mpg, na.rm = T) # na.rm --> Remove NA values"
   ]
  },
  {
   "cell_type": "code",
   "execution_count": 32,
   "id": "a5e95d76",
   "metadata": {},
   "outputs": [
    {
     "data": {
      "text/html": [
       "33.9"
      ],
      "text/latex": [
       "33.9"
      ],
      "text/markdown": [
       "33.9"
      ],
      "text/plain": [
       "[1] 33.9"
      ]
     },
     "metadata": {},
     "output_type": "display_data"
    }
   ],
   "source": [
    "max(mtcars$mpg, na.rm = T)"
   ]
  },
  {
   "cell_type": "code",
   "execution_count": 33,
   "id": "7cdc2afc",
   "metadata": {},
   "outputs": [
    {
     "data": {
      "text/html": [
       "<ol class=list-inline>\n",
       "\t<li>10.4</li>\n",
       "\t<li>33.9</li>\n",
       "</ol>\n"
      ],
      "text/latex": [
       "\\begin{enumerate*}\n",
       "\\item 10.4\n",
       "\\item 33.9\n",
       "\\end{enumerate*}\n"
      ],
      "text/markdown": [
       "1. 10.4\n",
       "2. 33.9\n",
       "\n",
       "\n"
      ],
      "text/plain": [
       "[1] 10.4 33.9"
      ]
     },
     "metadata": {},
     "output_type": "display_data"
    }
   ],
   "source": [
    "range(mtcars$mpg,na.rm = T) # Return both min and max"
   ]
  },
  {
   "cell_type": "code",
   "execution_count": 34,
   "id": "86b4ed1f",
   "metadata": {},
   "outputs": [
    {
     "data": {
      "text/html": [
       "20.090625"
      ],
      "text/latex": [
       "20.090625"
      ],
      "text/markdown": [
       "20.090625"
      ],
      "text/plain": [
       "[1] 20.09062"
      ]
     },
     "metadata": {},
     "output_type": "display_data"
    }
   ],
   "source": [
    "mean(mtcars$mpg, na.rm = T) # Average "
   ]
  },
  {
   "cell_type": "code",
   "execution_count": 35,
   "id": "1545aa02",
   "metadata": {},
   "outputs": [
    {
     "data": {
      "text/html": [
       "19.2"
      ],
      "text/latex": [
       "19.2"
      ],
      "text/markdown": [
       "19.2"
      ],
      "text/plain": [
       "[1] 19.2"
      ]
     },
     "metadata": {},
     "output_type": "display_data"
    }
   ],
   "source": [
    "median(mtcars$mpg, na.rm = T) # middle most value in data after sorting in ascending or descending"
   ]
  },
  {
   "cell_type": "code",
   "execution_count": 36,
   "id": "46cf4e85",
   "metadata": {},
   "outputs": [
    {
     "data": {
      "text/html": [
       "<ol class=list-inline>\n",
       "\t<li>10.4</li>\n",
       "\t<li>33.9</li>\n",
       "</ol>\n"
      ],
      "text/latex": [
       "\\begin{enumerate*}\n",
       "\\item 10.4\n",
       "\\item 33.9\n",
       "\\end{enumerate*}\n"
      ],
      "text/markdown": [
       "1. 10.4\n",
       "2. 33.9\n",
       "\n",
       "\n"
      ],
      "text/plain": [
       "[1] 10.4 33.9"
      ]
     },
     "metadata": {},
     "output_type": "display_data"
    }
   ],
   "source": [
    "range(mtcars$mpg,na.rm = T)"
   ]
  },
  {
   "cell_type": "code",
   "execution_count": 37,
   "id": "d8f8b0a5",
   "metadata": {},
   "outputs": [
    {
     "data": {
      "text/html": [
       "'numeric'"
      ],
      "text/latex": [
       "'numeric'"
      ],
      "text/markdown": [
       "'numeric'"
      ],
      "text/plain": [
       "[1] \"numeric\""
      ]
     },
     "metadata": {},
     "output_type": "display_data"
    }
   ],
   "source": [
    "mode(mtcars$hp)"
   ]
  },
  {
   "cell_type": "markdown",
   "id": "6076c3a5",
   "metadata": {},
   "source": [
    "## dplyr package"
   ]
  },
  {
   "cell_type": "code",
   "execution_count": 38,
   "id": "1b695644",
   "metadata": {},
   "outputs": [
    {
     "ename": "ERROR",
     "evalue": "Error in library(modeest): there is no package called 'modeest'\n",
     "output_type": "error",
     "traceback": [
      "Error in library(modeest): there is no package called 'modeest'\nTraceback:\n",
      "1. library(modeest)"
     ]
    }
   ],
   "source": [
    "library(modeest)\n",
    "mlv(mtcars$hp, method = \"mfv\")\n",
    "\n",
    "x = factor(mtcars$cyl)\n",
    "x\n",
    "table(x)\n",
    "\n",
    "\n",
    "##Handy dplyr Verb:\n",
    "#Filter --> filter()\n",
    "#Select --> select()\n",
    "#Arrange --> arrange()\n",
    "\n",
    "install.packages('dplyr')\n",
    "library(dplyr)\n",
    "#Structure:\n",
    "# First Argument is a DataFrame\n",
    "# Subsequent Argument say what to do with Data Frame\n",
    "# Always return a Data Frame\n",
    "\n",
    "#You can use \",\" or \"&\" to use and condition\n",
    "#filter(df , condition )\n",
    "mtcars[,c(2,10)] # extract entire rows and in columns 2 and 10 \n",
    "filter(mtcars , cyl==8)\n",
    "\n",
    "filter(mtcars,cyl==8,gear==5)\n",
    "\n",
    "\n",
    "filter(mtcars,cyl==8 | gear == 5) # and gate (&) and OR gate(|)\n",
    "\n",
    "#select method\n",
    " sel = select(mtcars,mpg,cyl,gear)\n",
    "sel\n",
    "filter(select(mtcars,mpg,cyl,gear),cyl == 4)\n",
    "# Use \":\" to select multiple contiguous columns, \n",
    "#and use \"contains\" to match columns by name\n",
    "\n",
    "select(mtcars,carb,mpg:disp,gear)\n",
    "\n",
    "#Syntax:\n",
    "#arrange(dataframe,orderby)\n",
    "arrange(mtcars,cyl)\n",
    "arrange(select(mtcars,cyl,gear),cyl)\n",
    "arrange(select(mtcars,cyl,gear),cyl,gear)\n",
    "arrange(select(mtcars,cyl,gear),desc(cyl))\n",
    "arrange(select(mtcars,cyl,gear),cyl,desc(gear))\n",
    "\n",
    "# Visualizations\n",
    "data(\"mtcars\")\n",
    "View(mtcars)\n",
    "plot(mtcars$mpg,mtcars$disp) # Relationship between variables Scatterplot\n",
    "plot(mtcars$disp,mtcars$hp)\n",
    "\n",
    "# Histogram (Univariate)\n",
    "hist(mtcars$mpg)\n",
    "\n",
    "# Box Plot (To identify outliers)\n",
    "\n",
    "boxplot(mtcars$hp)\n",
    "\n",
    "install.packages(\"ggplot2\")\n",
    "library(ggplot2)\n",
    "pairs(mtcars)\n",
    "pairs(mtcars[,1:7])"
   ]
  },
  {
   "cell_type": "code",
   "execution_count": null,
   "id": "e4dfeb77",
   "metadata": {},
   "outputs": [],
   "source": []
  }
 ],
 "metadata": {
  "kernelspec": {
   "display_name": "R",
   "language": "R",
   "name": "ir"
  },
  "language_info": {
   "codemirror_mode": "r",
   "file_extension": ".r",
   "mimetype": "text/x-r-source",
   "name": "R",
   "pygments_lexer": "r",
   "version": "3.6.1"
  }
 },
 "nbformat": 4,
 "nbformat_minor": 5
}
