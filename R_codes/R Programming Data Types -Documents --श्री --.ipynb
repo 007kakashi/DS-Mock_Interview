{
 "cells": [
  {
   "cell_type": "markdown",
   "id": "e0b7b0e5",
   "metadata": {},
   "source": [
    "## Overview"
   ]
  },
  {
   "cell_type": "markdown",
   "id": "dd0e56ef",
   "metadata": {},
   "source": [
    "- R is a programming language and software environment for statistical analysis, graphics representation and reporting. \n",
    "- R was created by Ross Ihaka and Robert Gentleman at the University of Auckland, New Zealand, and is currently developed by the R Development Core Team. \n",
    "- R is freely available under the GNU General Public License, and pre-compiled binary versions are provided for various operating systems like Linux, Windows and Mac. \n",
    "- This programming language was named R, based on the first letter of first name of the two R authors (Robert Gentleman and Ross Ihaka), and partly a play on the name of the Bell Labs Language S.\n",
    "- The core of R is an interpreted computer language which allows branching and looping as well as modular programming using functions.\n",
    "\n",
    "In the present era, R is one of the most important tool which is used by researchers, data analyst, statisticians, and marketers for retrieving, cleaning, analyzing, visualizing, and presenting data."
   ]
  },
  {
   "cell_type": "markdown",
   "id": "dc383ce9",
   "metadata": {},
   "source": [
    "## Features of R programming"
   ]
  },
  {
   "cell_type": "markdown",
   "id": "985d17ff",
   "metadata": {},
   "source": [
    "- It is a simple and effective programming language which has been well developed.\n",
    "- It is data analysis software.\n",
    "- It is a well-designed, easy, and effective language which has the concepts of user-defined, looping, conditional, and various I/O facilities.\n",
    "- It has a consistent and incorporated set of tools which are used for data analysis.\n",
    "- For different types of calculation on arrays, lists and vectors, R contains a suite of operators.\n",
    "- It provides effective data handling and storage facility.\n",
    "- It is an open-source, powerful, and highly extensible software.\n",
    "- It provides highly extensible graphical techniques.\n",
    "- It allows us to perform multiple calculations using vectors.\n",
    "- R is an interpreted language."
   ]
  },
  {
   "cell_type": "markdown",
   "id": "f3c6e165",
   "metadata": {},
   "source": [
    "### Basic"
   ]
  },
  {
   "cell_type": "code",
   "execution_count": null,
   "id": "3228aea4",
   "metadata": {},
   "outputs": [],
   "source": [
    "string <-\"Hello World!\"  \n",
    "print(string) "
   ]
  },
  {
   "cell_type": "code",
   "execution_count": null,
   "id": "bbb53921",
   "metadata": {},
   "outputs": [],
   "source": [
    "# R is case sensitive \n",
    "# r wont consider this line \n",
    "# comment\n",
    "5 + 6 # using R as a calculator"
   ]
  },
  {
   "cell_type": "code",
   "execution_count": null,
   "id": "dfe40688",
   "metadata": {},
   "outputs": [],
   "source": [
    "5 - 6"
   ]
  },
  {
   "cell_type": "code",
   "execution_count": null,
   "id": "c73b3314",
   "metadata": {},
   "outputs": [],
   "source": [
    "5*6"
   ]
  },
  {
   "cell_type": "code",
   "execution_count": null,
   "id": "d7c76f0d",
   "metadata": {},
   "outputs": [],
   "source": [
    "10/5"
   ]
  },
  {
   "cell_type": "code",
   "execution_count": null,
   "id": "72a99c48",
   "metadata": {},
   "outputs": [],
   "source": [
    "1:50 # print numbers from 1:50"
   ]
  },
  {
   "cell_type": "code",
   "execution_count": null,
   "id": "b6aa8a43",
   "metadata": {},
   "outputs": [],
   "source": [
    "50:1 # print numbers 50:1 in reverse order"
   ]
  },
  {
   "cell_type": "code",
   "execution_count": null,
   "id": "8a6c94d9",
   "metadata": {},
   "outputs": [],
   "source": [
    "print(50:1)"
   ]
  },
  {
   "cell_type": "code",
   "execution_count": null,
   "id": "ac71799b",
   "metadata": {},
   "outputs": [],
   "source": [
    "a = seq(1,10,by=2)\n",
    "a"
   ]
  },
  {
   "cell_type": "code",
   "execution_count": null,
   "id": "8b72aeb4",
   "metadata": {},
   "outputs": [],
   "source": [
    "b = rep(1,10)\n",
    "b"
   ]
  },
  {
   "cell_type": "code",
   "execution_count": null,
   "id": "c6bd1be7",
   "metadata": {},
   "outputs": [],
   "source": [
    "c=rep(1:5,5)\n",
    "c"
   ]
  },
  {
   "cell_type": "code",
   "execution_count": null,
   "id": "879a67cf",
   "metadata": {},
   "outputs": [],
   "source": [
    "print(\"Welcome to R Programming Session\") # print anything  "
   ]
  },
  {
   "cell_type": "code",
   "execution_count": null,
   "id": "6706d41b",
   "metadata": {},
   "outputs": [],
   "source": [
    "\"Welcome to R Programming Session\""
   ]
  },
  {
   "cell_type": "code",
   "execution_count": null,
   "id": "87b43eee",
   "metadata": {},
   "outputs": [],
   "source": [
    "print(25.5 + 12.7) # prinnting the calculatio"
   ]
  },
  {
   "cell_type": "code",
   "execution_count": null,
   "id": "8c3cd7bc",
   "metadata": {},
   "outputs": [],
   "source": [
    "length <- 5\n",
    "width <-7\n",
    "Area <- length * width\n",
    "Area"
   ]
  },
  {
   "cell_type": "raw",
   "id": "9d408b75",
   "metadata": {},
   "source": [
    "ctrl+l # to clear console window"
   ]
  },
  {
   "cell_type": "code",
   "execution_count": null,
   "id": "304e2586",
   "metadata": {},
   "outputs": [],
   "source": [
    "getwd()"
   ]
  },
  {
   "cell_type": "code",
   "execution_count": null,
   "id": "d87c1afb",
   "metadata": {},
   "outputs": [],
   "source": [
    "help(getwd)"
   ]
  },
  {
   "cell_type": "markdown",
   "id": "84d9b61f",
   "metadata": {},
   "source": [
    "## Data Types in R"
   ]
  },
  {
   "attachments": {
    "image.png": {
     "image/png": "[encoded data removed]"
    }
   },
   "cell_type": "markdown",
   "id": "ff46cfcb",
   "metadata": {},
   "source": [
    "### R Atomic Data Types\n",
    "\n",
    "![image.png](attachment:image.png)"
   ]
  },
  {
   "cell_type": "markdown",
   "id": "7d83157e",
   "metadata": {},
   "source": [
    "#### Logical"
   ]
  },
  {
   "cell_type": "code",
   "execution_count": null,
   "id": "a65e8dc8",
   "metadata": {},
   "outputs": [],
   "source": [
    "a = TRUE\n",
    "a"
   ]
  },
  {
   "cell_type": "code",
   "execution_count": null,
   "id": "d3f5f656",
   "metadata": {},
   "outputs": [],
   "source": [
    "class(a)"
   ]
  },
  {
   "cell_type": "code",
   "execution_count": null,
   "id": "0aeaf750",
   "metadata": {},
   "outputs": [],
   "source": [
    "is.logical(a)"
   ]
  },
  {
   "cell_type": "markdown",
   "id": "a6517501",
   "metadata": {},
   "source": [
    "#### Numeric"
   ]
  },
  {
   "cell_type": "code",
   "execution_count": null,
   "id": "de2a1079",
   "metadata": {},
   "outputs": [],
   "source": [
    "a <- 10\n",
    "a"
   ]
  },
  {
   "cell_type": "code",
   "execution_count": null,
   "id": "f33af1e5",
   "metadata": {},
   "outputs": [],
   "source": [
    "class(a)"
   ]
  },
  {
   "cell_type": "code",
   "execution_count": null,
   "id": "393f57a7",
   "metadata": {},
   "outputs": [],
   "source": [
    "is.numeric(a)"
   ]
  },
  {
   "cell_type": "markdown",
   "id": "45845871",
   "metadata": {},
   "source": [
    "#### Integer"
   ]
  },
  {
   "cell_type": "code",
   "execution_count": null,
   "id": "a714864e",
   "metadata": {},
   "outputs": [],
   "source": [
    "x <- 63L"
   ]
  },
  {
   "cell_type": "code",
   "execution_count": null,
   "id": "f75bcf99",
   "metadata": {},
   "outputs": [],
   "source": [
    "class(x)"
   ]
  },
  {
   "cell_type": "markdown",
   "id": "dd786698",
   "metadata": {},
   "source": [
    "#### Complex"
   ]
  },
  {
   "cell_type": "code",
   "execution_count": null,
   "id": "f871e14c",
   "metadata": {},
   "outputs": [],
   "source": [
    "x <- 6 + 4i\n",
    "x"
   ]
  },
  {
   "cell_type": "code",
   "execution_count": null,
   "id": "9ae5f6b9",
   "metadata": {},
   "outputs": [],
   "source": [
    "print(class(x))"
   ]
  },
  {
   "cell_type": "markdown",
   "id": "7a57a412",
   "metadata": {},
   "source": [
    "#### Character"
   ]
  },
  {
   "cell_type": "code",
   "execution_count": null,
   "id": "4a92c87b",
   "metadata": {},
   "outputs": [],
   "source": [
    "x <- \"hello\"\n",
    "x"
   ]
  },
  {
   "cell_type": "code",
   "execution_count": null,
   "id": "ae6c3ab2",
   "metadata": {},
   "outputs": [],
   "source": [
    "class(x)"
   ]
  },
  {
   "cell_type": "markdown",
   "id": "ecc6d632",
   "metadata": {},
   "source": [
    "#### Raw"
   ]
  },
  {
   "cell_type": "code",
   "execution_count": null,
   "id": "e78a7123",
   "metadata": {},
   "outputs": [],
   "source": [
    "x <- charToRaw(\"hello\")\n",
    "x\n",
    "print(class(x))"
   ]
  },
  {
   "cell_type": "markdown",
   "id": "0329f255",
   "metadata": {},
   "source": [
    "## Most commonly used Data Types"
   ]
  },
  {
   "cell_type": "markdown",
   "id": "11c25b67",
   "metadata": {},
   "source": [
    "### R Vectors\n",
    "\n",
    "A Vector is a fixed-length collection of values of a data type. The vector would get the data type of items in the collection."
   ]
  },
  {
   "cell_type": "raw",
   "id": "de2d781c",
   "metadata": {},
   "source": [
    "variable <- c(comma separated atomic vectors belonging to a same data type)"
   ]
  },
  {
   "cell_type": "code",
   "execution_count": null,
   "id": "395bbc5b",
   "metadata": {},
   "outputs": [],
   "source": [
    "a <- c(TRUE, FALSE, TRUE, FALSE) \n",
    "a"
   ]
  },
  {
   "cell_type": "code",
   "execution_count": null,
   "id": "730b94ea",
   "metadata": {},
   "outputs": [],
   "source": [
    "class(a)"
   ]
  },
  {
   "cell_type": "code",
   "execution_count": null,
   "id": "77cf5687",
   "metadata": {},
   "outputs": [],
   "source": [
    "b <- c(0, 1, 2, 5.3, 4.222, 6, -2, 4, c(7, 8, 9))\n",
    "b"
   ]
  },
  {
   "cell_type": "code",
   "execution_count": null,
   "id": "cc2b50a2",
   "metadata": {},
   "outputs": [],
   "source": [
    "class(b)"
   ]
  },
  {
   "cell_type": "code",
   "execution_count": null,
   "id": "0fd2b2a2",
   "metadata": {},
   "outputs": [],
   "source": [
    "g <- c(2L,5L,7)\n",
    "g\n",
    "class(g)"
   ]
  },
  {
   "cell_type": "code",
   "execution_count": null,
   "id": "cf02d5cb",
   "metadata": {},
   "outputs": [],
   "source": [
    "h <- c(1L,4L,7L,6.6,4.55)\n",
    "h\n",
    "class(h)"
   ]
  },
  {
   "cell_type": "code",
   "execution_count": null,
   "id": "d818f656",
   "metadata": {},
   "outputs": [],
   "source": [
    "d <- c(2L, 34, 0L,'Basics')\n",
    "d\n",
    "class(d)"
   ]
  },
  {
   "cell_type": "code",
   "execution_count": null,
   "id": "594182c9",
   "metadata": {},
   "outputs": [],
   "source": [
    "a"
   ]
  },
  {
   "cell_type": "code",
   "execution_count": null,
   "id": "a176bfc3",
   "metadata": {},
   "outputs": [],
   "source": [
    "# accessing vector elements by their indeces or subscripts\n",
    "\n",
    "a[1:3]"
   ]
  },
  {
   "cell_type": "code",
   "execution_count": null,
   "id": "16f70f14",
   "metadata": {},
   "outputs": [],
   "source": [
    "a[c(1,3)]"
   ]
  },
  {
   "cell_type": "raw",
   "id": "ed261cab",
   "metadata": {},
   "source": [
    "# a[1:3] != a[c(1,3)]"
   ]
  },
  {
   "cell_type": "raw",
   "id": "1cb73561",
   "metadata": {},
   "source": [
    "# Viewing vectors in tabular format\n",
    "View(e)# only helpful in small length vectors"
   ]
  },
  {
   "cell_type": "markdown",
   "id": "46f45cb0",
   "metadata": {},
   "source": [
    "### R Lists\n",
    "List -  can contain many different types of elements inside it like vectors, \n"
   ]
  },
  {
   "cell_type": "raw",
   "id": "838b7d98",
   "metadata": {},
   "source": [
    "variable <- list(comma seperated list items)"
   ]
  },
  {
   "cell_type": "code",
   "execution_count": null,
   "id": "386e3597",
   "metadata": {},
   "outputs": [],
   "source": [
    "h <- list(23, 21.3,c(1,2,3), \"hello\", sin)\n",
    "h"
   ]
  },
  {
   "cell_type": "code",
   "execution_count": null,
   "id": "7340439b",
   "metadata": {},
   "outputs": [],
   "source": [
    "class(h)"
   ]
  },
  {
   "cell_type": "code",
   "execution_count": null,
   "id": "35ce204f",
   "metadata": {},
   "outputs": [],
   "source": [
    "h[1]\n",
    "#h[2]\n",
    "#h[3]\n",
    "h[[3]][1]\n",
    "h[1:3]"
   ]
  },
  {
   "cell_type": "code",
   "execution_count": null,
   "id": "f2db34b9",
   "metadata": {},
   "outputs": [],
   "source": [
    "g <- c(23, 21.3, c(2,5,3), \"hello\",sin)\n",
    "g"
   ]
  },
  {
   "cell_type": "code",
   "execution_count": null,
   "id": "2703e95f",
   "metadata": {},
   "outputs": [],
   "source": [
    "class(g)"
   ]
  },
  {
   "cell_type": "code",
   "execution_count": null,
   "id": "a9213724",
   "metadata": {},
   "outputs": [],
   "source": [
    "h <- c(23, 21.3, c(2,5,3), \"hello\", 3+5i, 2L)\n",
    "h"
   ]
  },
  {
   "cell_type": "code",
   "execution_count": null,
   "id": "abcd3d0f",
   "metadata": {},
   "outputs": [],
   "source": [
    "class(h)"
   ]
  },
  {
   "cell_type": "code",
   "execution_count": null,
   "id": "4daf09dc",
   "metadata": {},
   "outputs": [],
   "source": [
    "h <- c(23, 21.3, c(2,5,3), \"hello\", 3+5i, 2L,mean)\n",
    "h"
   ]
  },
  {
   "cell_type": "code",
   "execution_count": null,
   "id": "a7838d7c",
   "metadata": {},
   "outputs": [],
   "source": [
    "class(h)"
   ]
  },
  {
   "cell_type": "code",
   "execution_count": null,
   "id": "146c85e1",
   "metadata": {},
   "outputs": [],
   "source": [
    "h <- list(23, 21.3, c(2,5,3), \"hello\", 3+5i, 2L)\n",
    "h\n",
    "class(h)"
   ]
  },
  {
   "cell_type": "code",
   "execution_count": null,
   "id": "7d24de34",
   "metadata": {},
   "outputs": [],
   "source": [
    "# Accessing List elements by their index\n",
    "h[[1]]"
   ]
  },
  {
   "cell_type": "code",
   "execution_count": null,
   "id": "ac3255f0",
   "metadata": {},
   "outputs": [],
   "source": [
    "h[1]"
   ]
  },
  {
   "cell_type": "code",
   "execution_count": null,
   "id": "5ef344c6",
   "metadata": {},
   "outputs": [],
   "source": [
    "h[[3]][2]"
   ]
  },
  {
   "cell_type": "markdown",
   "id": "2b3c3319",
   "metadata": {},
   "source": [
    "### R Matrices\n",
    "\n",
    "A Matrix is a 2-D set of data elements. A Vector, number of rows and number of columns could be used to create a Matrix.\n",
    "\n",
    "- Matrix - two-dimensional(rows*columns) rectangular data set \n",
    "- It can be created using a vector input to the matrix function\n",
    "- The data elements must be of the same type\n",
    "- All columns in a matrix must have the same type of mode(numeric, character, etc.) \n",
    "- and the same length"
   ]
  },
  {
   "cell_type": "raw",
   "id": "8eb278dd",
   "metadata": {},
   "source": [
    "variable <- matrix(vector, number of rows, number of columns, split by row or column)"
   ]
  },
  {
   "cell_type": "markdown",
   "id": "c4a0f420",
   "metadata": {},
   "source": [
    "**split by row or column :** if TRUE then its split by row, else if its FALSE then split by column."
   ]
  },
  {
   "cell_type": "code",
   "execution_count": null,
   "id": "8e22d353",
   "metadata": {},
   "outputs": [],
   "source": [
    "# Split by row\n",
    "A = matrix(c(1,2,3,4,5,6,7,8),2,4,TRUE)\n",
    "print(A)"
   ]
  },
  {
   "cell_type": "code",
   "execution_count": null,
   "id": "029e3648",
   "metadata": {},
   "outputs": [],
   "source": [
    "# Split by column\n",
    "A <- matrix(c(1,2,3,4,5,6,7,8),2,4,FALSE)\n",
    "print(A)"
   ]
  },
  {
   "cell_type": "code",
   "execution_count": null,
   "id": "e5fec9dd",
   "metadata": {},
   "outputs": [],
   "source": [
    "i <- matrix(c(10, 20, 30), nrow = 3, ncol = 2, byrow = FALSE, \n",
    "            dimnames = list(c('r1', 'r2', 'r3'), c('c1', 'c2')))\n",
    "# default value for byrow is FALSE\n",
    "i\n",
    "class(i)"
   ]
  },
  {
   "cell_type": "code",
   "execution_count": null,
   "id": "e3aaf51f",
   "metadata": {},
   "outputs": [],
   "source": [
    "# Accessing elements of a matrix\n",
    "i[3,2]"
   ]
  },
  {
   "cell_type": "markdown",
   "id": "054d8fa9",
   "metadata": {},
   "source": [
    "### R Arrays\n",
    "\n",
    "In R programming language, Arrays are N-Dimensional data sets.\n",
    "\n",
    "Array - While matrices are confined to 2 dimensions, arrays can be of any number of dimensions."
   ]
  },
  {
   "cell_type": "raw",
   "id": "536904fc",
   "metadata": {},
   "source": [
    "variable <- array(list, dimension)"
   ]
  },
  {
   "cell_type": "code",
   "execution_count": null,
   "id": "67462317",
   "metadata": {},
   "outputs": [],
   "source": [
    "?array"
   ]
  },
  {
   "cell_type": "code",
   "execution_count": null,
   "id": "59ee6c53",
   "metadata": {},
   "outputs": [],
   "source": [
    "A = array(c(1,2,3,4,5,6,7,8,9,10,11,12),c(2,3,2))\n",
    "print(A)"
   ]
  },
  {
   "cell_type": "code",
   "execution_count": null,
   "id": "a0d9eab6",
   "metadata": {},
   "outputs": [],
   "source": [
    "j <- array(c(\"R\", \"Programming\", \"Session\"), dim = c(2, 5, 5))\n",
    "j"
   ]
  },
  {
   "cell_type": "code",
   "execution_count": null,
   "id": "da775502",
   "metadata": {},
   "outputs": [],
   "source": [
    "class(j)"
   ]
  },
  {
   "cell_type": "code",
   "execution_count": null,
   "id": "0b28df92",
   "metadata": {},
   "outputs": [],
   "source": [
    "j[2,5,4] # 2nd row, 5th column, 4th array"
   ]
  },
  {
   "cell_type": "markdown",
   "id": "9e1b650f",
   "metadata": {},
   "source": [
    "### R Factors\n",
    "\n",
    "A Factor is a vector along with the distinct values of vector as levels. Factors are useful during statistical modelling"
   ]
  },
  {
   "cell_type": "markdown",
   "id": "2ed385d2",
   "metadata": {},
   "source": [
    "variable <- factor(vector)"
   ]
  },
  {
   "cell_type": "code",
   "execution_count": null,
   "id": "84339ae9",
   "metadata": {},
   "outputs": [],
   "source": [
    "factorX = factor(c(1,4,7,2,6,7,1,6,4))\n",
    "factorX"
   ]
  },
  {
   "cell_type": "code",
   "execution_count": null,
   "id": "5a290c6f",
   "metadata": {},
   "outputs": [],
   "source": [
    "k <- c(\"red\", \"green\", \"blue\", \"blue\", \"red\", \"red\")\n",
    "x <- factor(k)\n",
    "x"
   ]
  },
  {
   "cell_type": "code",
   "execution_count": null,
   "id": "39b9d8d5",
   "metadata": {},
   "outputs": [],
   "source": [
    "class(x)"
   ]
  },
  {
   "cell_type": "markdown",
   "id": "23a782a0",
   "metadata": {},
   "source": [
    "### R Data Frames\n",
    "\n",
    "A Data Frame is a set of equal length vectors. The vectors could be of different data types."
   ]
  },
  {
   "cell_type": "raw",
   "id": "263b495e",
   "metadata": {},
   "source": [
    "variable <- data.frame(listA, listB, listC, .., listN)"
   ]
  },
  {
   "cell_type": "code",
   "execution_count": null,
   "id": "bbfbb98b",
   "metadata": {},
   "outputs": [],
   "source": [
    "dataX = data.frame(values = c(21,42,113), RGB = c('red','blue','green'))\n",
    "print(dataX)"
   ]
  },
  {
   "cell_type": "code",
   "execution_count": null,
   "id": "be165bd8",
   "metadata": {},
   "outputs": [],
   "source": [
    "m <- data.frame(gender = c(\"Male\", \"Male\",\"Female\"), \n",
    "                height = c(152, 171.5, 165), \n",
    "                weight = c(81,93,67), Age = c(42,38,64))\n",
    "m"
   ]
  },
  {
   "cell_type": "code",
   "execution_count": null,
   "id": "7fce7f04",
   "metadata": {},
   "outputs": [],
   "source": [
    "class(m)"
   ]
  },
  {
   "cell_type": "raw",
   "id": "c68f795a",
   "metadata": {},
   "source": [
    "View(m)"
   ]
  },
  {
   "cell_type": "code",
   "execution_count": null,
   "id": "d1e8e968",
   "metadata": {},
   "outputs": [],
   "source": [
    "# Accessing columns/features of a data frame\n",
    "m[1]"
   ]
  },
  {
   "cell_type": "code",
   "execution_count": null,
   "id": "fa74eea3",
   "metadata": {},
   "outputs": [],
   "source": [
    "# Accessing elements of a data frame\n",
    "m$height"
   ]
  },
  {
   "cell_type": "code",
   "execution_count": null,
   "id": "9201ffda",
   "metadata": {},
   "outputs": [],
   "source": [
    "m$gender"
   ]
  },
  {
   "cell_type": "code",
   "execution_count": null,
   "id": "c591a7b3",
   "metadata": {},
   "outputs": [],
   "source": [
    "m$gender[3]"
   ]
  },
  {
   "cell_type": "code",
   "execution_count": null,
   "id": "fb193e1b",
   "metadata": {},
   "outputs": [],
   "source": [
    "m[2]"
   ]
  },
  {
   "cell_type": "code",
   "execution_count": null,
   "id": "a922406f",
   "metadata": {},
   "outputs": [],
   "source": [
    "m[[2]]"
   ]
  },
  {
   "cell_type": "code",
   "execution_count": null,
   "id": "6657a026",
   "metadata": {},
   "outputs": [],
   "source": [
    "m[[2]][2]"
   ]
  },
  {
   "cell_type": "code",
   "execution_count": null,
   "id": "64ea5e60",
   "metadata": {},
   "outputs": [],
   "source": [
    "m[3,]"
   ]
  },
  {
   "cell_type": "code",
   "execution_count": null,
   "id": "0e8bf7af",
   "metadata": {},
   "outputs": [],
   "source": [
    "m[1:3,2:3]"
   ]
  },
  {
   "cell_type": "code",
   "execution_count": null,
   "id": "cbf9d300",
   "metadata": {},
   "outputs": [],
   "source": [
    "m[c(1,2), c(2,3)] # accessing multiple items from a data frame"
   ]
  },
  {
   "cell_type": "raw",
   "id": "9fa65ae8",
   "metadata": {},
   "source": [
    "# Finding Variables in Environment\n",
    "?ls\n",
    "ls()\n",
    "a <- 3\n",
    "ls(pattern = \"var\") # displays variable with var text in it\n",
    "ls(all.name = TRUE) # also displays hidden(starting with .) variables\n",
    "\n",
    "# Deleting variables \n",
    "rm(a) # will remove all variables with var text in it\n",
    "a\n",
    "# End of Variables"
   ]
  },
  {
   "cell_type": "markdown",
   "id": "1c462109",
   "metadata": {},
   "source": [
    "## R Operators"
   ]
  },
  {
   "attachments": {
    "image.png": {
     "image/png": "[encoded data removed]"
    }
   },
   "cell_type": "markdown",
   "id": "b6b9e871",
   "metadata": {},
   "source": [
    "### R Arithmetic Operators\n",
    "\n",
    "Arithmetic Operators are used to accomplish arithmetic operations.\n",
    "\n",
    "![image.png](attachment:image.png)"
   ]
  },
  {
   "attachments": {
    "image.png": {
     "image/png": "[encoded data removed]"
    }
   },
   "cell_type": "markdown",
   "id": "ff680c9a",
   "metadata": {},
   "source": [
    "![image.png](attachment:image.png)"
   ]
  },
  {
   "cell_type": "code",
   "execution_count": null,
   "id": "24758129",
   "metadata": {},
   "outputs": [],
   "source": [
    "# R Arithmetic Operators Example for integers\n",
    " \n",
    "a <- 7.5\n",
    "b <- 2\n",
    " \n",
    "print ( a+b )   #addition\n",
    "print ( a-b )   #subtraction\n",
    "print ( a*b )   #multiplication\n",
    "print ( a/b )   #Division\n",
    "print ( a%%b )  #Reminder\n",
    "print ( a%/%b ) #Quotient\n",
    "print ( a^b )   #Power of"
   ]
  },
  {
   "cell_type": "code",
   "execution_count": null,
   "id": "c02b67a3",
   "metadata": {},
   "outputs": [],
   "source": [
    "# R Operators - R Arithmetic Operators Example for vectors\n",
    " \n",
    "a <- c(8, 9, 6)\n",
    "b <- c(2, 4, 5)\n",
    " \n",
    "print ( a+b )   #addition\n",
    "print ( a-b )   #subtraction\n",
    "print ( a*b )   #multiplication\n",
    "print ( a/b )   #Division\n",
    "print ( a%%b )  #Reminder\n",
    "print ( a%/%b ) #Quotient\n",
    "print ( a^b )   #Power of"
   ]
  },
  {
   "attachments": {
    "image.png": {
     "image/png": "[encoded data removed]"
    }
   },
   "cell_type": "markdown",
   "id": "549b7ba7",
   "metadata": {},
   "source": [
    "### R Relational Operators\n",
    "Relational Operators are those that find out relation between the two operands provided to them.\n",
    "![image.png](attachment:image.png)"
   ]
  },
  {
   "attachments": {
    "image.png": {
     "image/png": "[encoded data removed]"
    }
   },
   "cell_type": "markdown",
   "id": "7f56261f",
   "metadata": {},
   "source": [
    "![image.png](attachment:image.png)"
   ]
  },
  {
   "cell_type": "code",
   "execution_count": null,
   "id": "36fcc1ab",
   "metadata": {},
   "outputs": [],
   "source": [
    "# R Operators - R Relational Operators Example for Numbers\n",
    " \n",
    "a <- 7.5\n",
    "b <- 2\n",
    " \n",
    "print ( a>b )    # greater than\n",
    "print ( a==b )  # equal to \n",
    "print ( a<=b )   # less than or equal to\n",
    "print ( a>=b )   # greater than or equal to\n",
    "print ( a!=b )  # not equal to"
   ]
  },
  {
   "cell_type": "code",
   "execution_count": null,
   "id": "3fa0f5ab",
   "metadata": {},
   "outputs": [],
   "source": [
    "# R Operators - R Relational Operators Example for Numbers\n",
    "  \n",
    "a <- c(7.5, 3, 5)\n",
    "b <- c(2, 7, 0)\n",
    "  \n",
    "print ( a<b ) # less than\n",
    "print ( a>b ) # greater than\n",
    "print ( a==b ) # equal to\n",
    "print ( a<=b ) # less than or equal to\n",
    "print ( a>=b ) # greater than or equal to\n",
    "print ( a!=b ) # not equal to"
   ]
  },
  {
   "attachments": {
    "image.png": {
     "image/png": "[encoded data removed]"
    }
   },
   "cell_type": "markdown",
   "id": "44022639",
   "metadata": {},
   "source": [
    "### R Logical Operators\n",
    "Logical Operators in R programming language work only for the basic data types logical, numeric and complex and vectors of these basic data types.\n",
    "![image.png](attachment:image.png)"
   ]
  },
  {
   "attachments": {
    "image.png": {
     "image/png": "[encoded data removed]"
    }
   },
   "cell_type": "markdown",
   "id": "78026d41",
   "metadata": {},
   "source": [
    "![image.png](attachment:image.png)"
   ]
  },
  {
   "attachments": {
    "image.png": {
     "image/png": "[encoded data removed]"
    }
   },
   "cell_type": "markdown",
   "id": "a70c7a7a",
   "metadata": {},
   "source": [
    "### R Assignment Operators\n",
    "\n",
    "Assignment Operators are those that help in assigning a value to the variable.\n",
    "\n",
    "![image.png](attachment:image.png)"
   ]
  },
  {
   "attachments": {
    "image.png": {
     "image/png": "[encoded data removed]"
    }
   },
   "cell_type": "markdown",
   "id": "a8183b09",
   "metadata": {},
   "source": [
    "![image.png](attachment:image.png)"
   ]
  },
  {
   "cell_type": "code",
   "execution_count": null,
   "id": "c5aa39be",
   "metadata": {},
   "outputs": [],
   "source": [
    "# R Operators - R Assignment Operators\n",
    "  \n",
    "a = 2\n",
    "print ( a )\n",
    "  \n",
    "a <- TRUE\n",
    "print ( a )\n",
    "  \n",
    "454 -> a\n",
    "print ( a )\n",
    "  \n",
    "a <<- 2.9\n",
    "print ( a )\n",
    "  \n",
    "c(6, 8, 9) -> a\n",
    "print ( a )"
   ]
  },
  {
   "attachments": {
    "image.png": {
     "image/png": "[encoded data removed]"
    }
   },
   "cell_type": "markdown",
   "id": "1e58dea4",
   "metadata": {},
   "source": [
    "### R Miscellaneous Operators\n",
    "These operators does not fall into any of the categories mentioned above, but are significantly important during R programming for manipulating data.\n",
    "![image.png](attachment:image.png)"
   ]
  },
  {
   "attachments": {
    "image.png": {
     "image/png": "[encoded data removed]"
    }
   },
   "cell_type": "markdown",
   "id": "0db5f242",
   "metadata": {},
   "source": [
    "![image.png](attachment:image.png)"
   ]
  },
  {
   "cell_type": "code",
   "execution_count": null,
   "id": "825ec3e8",
   "metadata": {},
   "outputs": [],
   "source": [
    "# R Operators - R Misc Operators\n",
    "  \n",
    "a = 23:31\n",
    "print ( a )\n",
    "  \n",
    "a = c(25, 27, 76)\n",
    "b = 27\n",
    "print ( b %in% a )\n",
    "  \n",
    "M = matrix(c(1,2,3,4), 2, 2, TRUE)\n",
    "print ( M %*% t(M) )"
   ]
  },
  {
   "cell_type": "code",
   "execution_count": null,
   "id": "b7297c71",
   "metadata": {},
   "outputs": [],
   "source": [
    "a <- matrix( c(2, 6, 5, 1, 10, 4), nrow = 2, ncol = 3, byrow = TRUE)\n",
    "print(a)"
   ]
  },
  {
   "cell_type": "code",
   "execution_count": null,
   "id": "8089de47",
   "metadata": {},
   "outputs": [],
   "source": [
    "# matrix transpose\n",
    "t(a)"
   ]
  },
  {
   "cell_type": "code",
   "execution_count": null,
   "id": "6504a957",
   "metadata": {},
   "outputs": [],
   "source": [
    "# multiply a matrix with its transpose\n",
    "at <- a %*% t(a)\n",
    "at"
   ]
  }
 ],
 "metadata": {
  "kernelspec": {
   "display_name": "R",
   "language": "R",
   "name": "ir"
  },
  "language_info": {
   "codemirror_mode": "r",
   "file_extension": ".r",
   "mimetype": "text/x-r-source",
   "name": "R",
   "pygments_lexer": "r",
   "version": "3.6.1"
  }
 },
 "nbformat": 4,
 "nbformat_minor": 5
}
